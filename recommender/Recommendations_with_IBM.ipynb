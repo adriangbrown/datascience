{
 "cells": [
  {
   "cell_type": "markdown",
   "metadata": {},
   "source": [
    "# Recommendations with IBM\n",
    "\n",
    "In this notebook, you will be putting your recommendation skills to use on real data from the IBM Watson Studio platform. \n",
    "\n",
    "\n",
    "You may either submit your notebook through the workspace here, or you may work from your local machine and submit through the next page.  Either way assure that your code passes the project [RUBRIC](https://review.udacity.com/#!/rubrics/3325/view).  **Please save regularly.**\n",
    "\n",
    "By following the table of contents, you will build out a number of different methods for making recommendations that can be used for different situations. \n",
    "\n",
    "\n",
    "## Table of Contents\n",
    "\n",
    "I. [Exploratory Data Analysis](#Exploratory-Data-Analysis)<br>\n",
    "II. [Rank Based Recommendations](#Rank)<br>\n",
    "III. [User-User Based Collaborative Filtering](#User-User)<br>\n",
    "IV. [Content Based Recommendations (EXTRA - NOT REQUIRED)](#Content-Recs)<br>\n",
    "V. [Matrix Factorization](#Matrix-Fact)<br>\n",
    "VI. [Extras & Concluding](#conclusions)\n",
    "\n",
    "At the end of the notebook, you will find directions for how to submit your work.  Let's get started by importing the necessary libraries and reading in the data."
   ]
  },
  {
   "cell_type": "code",
   "execution_count": 138,
   "metadata": {},
   "outputs": [
    {
     "data": {
      "text/html": [
       "<div>\n",
       "<style scoped>\n",
       "    .dataframe tbody tr th:only-of-type {\n",
       "        vertical-align: middle;\n",
       "    }\n",
       "\n",
       "    .dataframe tbody tr th {\n",
       "        vertical-align: top;\n",
       "    }\n",
       "\n",
       "    .dataframe thead th {\n",
       "        text-align: right;\n",
       "    }\n",
       "</style>\n",
       "<table border=\"1\" class=\"dataframe\">\n",
       "  <thead>\n",
       "    <tr style=\"text-align: right;\">\n",
       "      <th></th>\n",
       "      <th>article_id</th>\n",
       "      <th>title</th>\n",
       "      <th>email</th>\n",
       "    </tr>\n",
       "  </thead>\n",
       "  <tbody>\n",
       "    <tr>\n",
       "      <th>0</th>\n",
       "      <td>1430.0</td>\n",
       "      <td>using pixiedust for fast, flexible, and easier...</td>\n",
       "      <td>ef5f11f77ba020cd36e1105a00ab868bbdbf7fe7</td>\n",
       "    </tr>\n",
       "    <tr>\n",
       "      <th>1</th>\n",
       "      <td>1314.0</td>\n",
       "      <td>healthcare python streaming application demo</td>\n",
       "      <td>083cbdfa93c8444beaa4c5f5e0f5f9198e4f9e0b</td>\n",
       "    </tr>\n",
       "    <tr>\n",
       "      <th>2</th>\n",
       "      <td>1429.0</td>\n",
       "      <td>use deep learning for image classification</td>\n",
       "      <td>b96a4f2e92d8572034b1e9b28f9ac673765cd074</td>\n",
       "    </tr>\n",
       "    <tr>\n",
       "      <th>3</th>\n",
       "      <td>1338.0</td>\n",
       "      <td>ml optimization using cognitive assistant</td>\n",
       "      <td>06485706b34a5c9bf2a0ecdac41daf7e7654ceb7</td>\n",
       "    </tr>\n",
       "    <tr>\n",
       "      <th>4</th>\n",
       "      <td>1276.0</td>\n",
       "      <td>deploy your python model as a restful api</td>\n",
       "      <td>f01220c46fc92c6e6b161b1849de11faacd7ccb2</td>\n",
       "    </tr>\n",
       "  </tbody>\n",
       "</table>\n",
       "</div>"
      ],
      "text/plain": [
       "   article_id                                              title  \\\n",
       "0      1430.0  using pixiedust for fast, flexible, and easier...   \n",
       "1      1314.0       healthcare python streaming application demo   \n",
       "2      1429.0         use deep learning for image classification   \n",
       "3      1338.0          ml optimization using cognitive assistant   \n",
       "4      1276.0          deploy your python model as a restful api   \n",
       "\n",
       "                                      email  \n",
       "0  ef5f11f77ba020cd36e1105a00ab868bbdbf7fe7  \n",
       "1  083cbdfa93c8444beaa4c5f5e0f5f9198e4f9e0b  \n",
       "2  b96a4f2e92d8572034b1e9b28f9ac673765cd074  \n",
       "3  06485706b34a5c9bf2a0ecdac41daf7e7654ceb7  \n",
       "4  f01220c46fc92c6e6b161b1849de11faacd7ccb2  "
      ]
     },
     "execution_count": 138,
     "metadata": {},
     "output_type": "execute_result"
    }
   ],
   "source": [
    "import pandas as pd\n",
    "import numpy as np\n",
    "import matplotlib.pyplot as plt\n",
    "import project_tests as t\n",
    "import pickle\n",
    "from sklearn.metrics import accuracy_score\n",
    "\n",
    "%matplotlib inline\n",
    "\n",
    "df = pd.read_csv('data/user-item-interactions.csv')\n",
    "df_content = pd.read_csv('data/articles_community.csv')\n",
    "del df['Unnamed: 0']\n",
    "del df_content['Unnamed: 0']\n",
    "\n",
    "# Show df to get an idea of the data\n",
    "df.head()"
   ]
  },
  {
   "cell_type": "markdown",
   "metadata": {},
   "source": [
    "### <a class=\"anchor\" id=\"Exploratory-Data-Analysis\">Part I : Exploratory Data Analysis</a>\n",
    "\n",
    "Use the dictionary and cells below to provide some insight into the descriptive statistics of the data.\n",
    "\n",
    "`1.` What is the distribution of how many articles a user interacts with in the dataset?  Provide a visual and descriptive statistics to assist with giving a look at the number of times each user interacts with an article.  "
   ]
  },
  {
   "cell_type": "code",
   "execution_count": 139,
   "metadata": {},
   "outputs": [
    {
     "data": {
      "text/plain": [
       "([<matplotlib.axis.XTick at 0x7ecf13d69c88>,\n",
       "  <matplotlib.axis.XTick at 0x7ecf2a53cc88>,\n",
       "  <matplotlib.axis.XTick at 0x7ecf13dd1748>,\n",
       "  <matplotlib.axis.XTick at 0x7ecf2a4508d0>,\n",
       "  <matplotlib.axis.XTick at 0x7ecf2a450f28>,\n",
       "  <matplotlib.axis.XTick at 0x7ecf2a4575c0>,\n",
       "  <matplotlib.axis.XTick at 0x7ecf2a457c50>,\n",
       "  <matplotlib.axis.XTick at 0x7ecf2a45c320>,\n",
       "  <matplotlib.axis.XTick at 0x7ecf2a45c9b0>,\n",
       "  <matplotlib.axis.XTick at 0x7ecf2a463080>],\n",
       " <a list of 10 Text xticklabel objects>)"
      ]
     },
     "execution_count": 139,
     "metadata": {},
     "output_type": "execute_result"
    },
    {
     "data": {
      "image/png": "[encoded data removed]",
      "text/plain": [
       "<matplotlib.figure.Figure at 0x7ecf2a575c18>"
      ]
     },
     "metadata": {
      "needs_background": "light"
     },
     "output_type": "display_data"
    }
   ],
   "source": [
    "#df_content.head()\n",
    "user_interactions = df.groupby('email')['article_id'].count().reset_index()\n",
    "# Set the figure size\n",
    "plt.figure(figsize=(15, 6))\n",
    "n, bins, patches = plt.hist(user_interactions['article_id'], bins=10, edgecolor='black')\n",
    "plt.xlabel('Value')\n",
    "plt.ylabel('Frequency')\n",
    "plt.title('Binned Chart')\n",
    "# Adding bin numbers to x-axis\n",
    "plt.xticks(bins[:-1])"
   ]
  },
  {
   "cell_type": "code",
   "execution_count": 140,
   "metadata": {},
   "outputs": [
    {
     "data": {
      "text/plain": [
       "1"
      ]
     },
     "execution_count": 140,
     "metadata": {},
     "output_type": "execute_result"
    }
   ],
   "source": [
    "np.median(user_interactions['article_id'])\n",
    "np.max(user_interactions['article_id'])\n",
    "np.min(user_interactions['article_id'])"
   ]
  },
  {
   "cell_type": "code",
   "execution_count": 141,
   "metadata": {},
   "outputs": [],
   "source": [
    "# Fill in the median and maximum number of user_article interactios below\n",
    "\n",
    "median_val = 3 # 50% of individuals interact with ____ number of articles or fewer.\n",
    "max_views_by_user = 364 # The maximum number of user-article interactions by any 1 user is ______."
   ]
  },
  {
   "cell_type": "markdown",
   "metadata": {},
   "source": [
    "`2.` Explore and remove duplicate articles from the **df_content** dataframe.  "
   ]
  },
  {
   "cell_type": "code",
   "execution_count": 142,
   "metadata": {},
   "outputs": [
    {
     "name": "stdout",
     "output_type": "stream",
     "text": [
      "False    1056\n",
      "dtype: int64\n"
     ]
    }
   ],
   "source": [
    "# Find and explore duplicate articles\n",
    "#print(df_content.head())\n",
    "cols = ['doc_body', 'doc_description']\n",
    "df_content_filtered = df_content[cols]\n",
    "\n",
    "dupes = df_content_filtered.duplicated()\n",
    "        \n",
    "print(dupes.value_counts())"
   ]
  },
  {
   "cell_type": "code",
   "execution_count": 143,
   "metadata": {},
   "outputs": [
    {
     "name": "stdout",
     "output_type": "stream",
     "text": [
      "False    1051\n",
      "True        5\n",
      "Name: article_id, dtype: int64\n"
     ]
    }
   ],
   "source": [
    "dupes = df_content['article_id'].duplicated()\n",
    "\n",
    "print(dupes.value_counts())"
   ]
  },
  {
   "cell_type": "code",
   "execution_count": 144,
   "metadata": {},
   "outputs": [
    {
     "name": "stdout",
     "output_type": "stream",
     "text": [
      "1056\n",
      "1051\n"
     ]
    }
   ],
   "source": [
    "# Remove any rows that have the same article_id - only keep the first\n",
    "print(len(df_content))\n",
    "\n",
    "# df_content without duplicate article ids\n",
    "df_content_nodupes = df_content.drop_duplicates(subset='article_id', keep='first')\n",
    "print(len(df_content_nodupes))"
   ]
  },
  {
   "cell_type": "markdown",
   "metadata": {},
   "source": [
    "`3.` Use the cells below to find:\n",
    "\n",
    "**a.** The number of unique articles that have an interaction with a user.  \n",
    "**b.** The number of unique articles in the dataset (whether they have any interactions or not).<br>\n",
    "**c.** The number of unique users in the dataset. (excluding null values) <br>\n",
    "**d.** The number of user-article interactions in the dataset."
   ]
  },
  {
   "cell_type": "code",
   "execution_count": 145,
   "metadata": {},
   "outputs": [
    {
     "data": {
      "text/plain": [
       "(45993, 3)"
      ]
     },
     "execution_count": 145,
     "metadata": {},
     "output_type": "execute_result"
    }
   ],
   "source": [
    "df.shape\n",
    "df.article_id.nunique()\n",
    "df_content_nodupes.shape\n",
    "df.email.nunique()\n",
    "df.shape"
   ]
  },
  {
   "cell_type": "code",
   "execution_count": 146,
   "metadata": {},
   "outputs": [],
   "source": [
    "unique_articles = 714 # The number of unique articles that have at least one interaction\n",
    "total_articles = 1051 # The number of unique articles on the IBM platform\n",
    "unique_users = 5148 # The number of unique users\n",
    "user_article_interactions = 45993 # The number of user-article interactions"
   ]
  },
  {
   "cell_type": "markdown",
   "metadata": {},
   "source": [
    "`4.` Use the cells below to find the most viewed **article_id**, as well as how often it was viewed.  After talking to the company leaders, the `email_mapper` function was deemed a reasonable way to map users to ids.  There were a small number of null values, and it was found that all of these null values likely belonged to a single user (which is how they are stored using the function below)."
   ]
  },
  {
   "cell_type": "code",
   "execution_count": 147,
   "metadata": {},
   "outputs": [
    {
     "data": {
      "text/plain": [
       "article_id\n",
       "1429.0    937\n",
       "1330.0    927\n",
       "1431.0    671\n",
       "1427.0    643\n",
       "1364.0    627\n",
       "Name: email, dtype: int64"
      ]
     },
     "execution_count": 147,
     "metadata": {},
     "output_type": "execute_result"
    }
   ],
   "source": [
    "count_df = df.groupby('article_id')['email'].count()\n",
    "count_df.sort_values(ascending=False).head()\n"
   ]
  },
  {
   "cell_type": "code",
   "execution_count": 148,
   "metadata": {},
   "outputs": [],
   "source": [
    "most_viewed_article_id = '1429.0' # The most viewed article in the dataset as a string with one value following the decimal \n",
    "max_views = 937 # The most viewed article in the dataset was viewed how many times?"
   ]
  },
  {
   "cell_type": "code",
   "execution_count": 149,
   "metadata": {},
   "outputs": [
    {
     "data": {
      "text/html": [
       "<div>\n",
       "<style scoped>\n",
       "    .dataframe tbody tr th:only-of-type {\n",
       "        vertical-align: middle;\n",
       "    }\n",
       "\n",
       "    .dataframe tbody tr th {\n",
       "        vertical-align: top;\n",
       "    }\n",
       "\n",
       "    .dataframe thead th {\n",
       "        text-align: right;\n",
       "    }\n",
       "</style>\n",
       "<table border=\"1\" class=\"dataframe\">\n",
       "  <thead>\n",
       "    <tr style=\"text-align: right;\">\n",
       "      <th></th>\n",
       "      <th>article_id</th>\n",
       "      <th>title</th>\n",
       "      <th>user_id</th>\n",
       "    </tr>\n",
       "  </thead>\n",
       "  <tbody>\n",
       "    <tr>\n",
       "      <th>0</th>\n",
       "      <td>1430.0</td>\n",
       "      <td>using pixiedust for fast, flexible, and easier...</td>\n",
       "      <td>1</td>\n",
       "    </tr>\n",
       "    <tr>\n",
       "      <th>1</th>\n",
       "      <td>1314.0</td>\n",
       "      <td>healthcare python streaming application demo</td>\n",
       "      <td>2</td>\n",
       "    </tr>\n",
       "    <tr>\n",
       "      <th>2</th>\n",
       "      <td>1429.0</td>\n",
       "      <td>use deep learning for image classification</td>\n",
       "      <td>3</td>\n",
       "    </tr>\n",
       "    <tr>\n",
       "      <th>3</th>\n",
       "      <td>1338.0</td>\n",
       "      <td>ml optimization using cognitive assistant</td>\n",
       "      <td>4</td>\n",
       "    </tr>\n",
       "    <tr>\n",
       "      <th>4</th>\n",
       "      <td>1276.0</td>\n",
       "      <td>deploy your python model as a restful api</td>\n",
       "      <td>5</td>\n",
       "    </tr>\n",
       "  </tbody>\n",
       "</table>\n",
       "</div>"
      ],
      "text/plain": [
       "   article_id                                              title  user_id\n",
       "0      1430.0  using pixiedust for fast, flexible, and easier...        1\n",
       "1      1314.0       healthcare python streaming application demo        2\n",
       "2      1429.0         use deep learning for image classification        3\n",
       "3      1338.0          ml optimization using cognitive assistant        4\n",
       "4      1276.0          deploy your python model as a restful api        5"
      ]
     },
     "execution_count": 149,
     "metadata": {},
     "output_type": "execute_result"
    }
   ],
   "source": [
    "## No need to change the code here - this will be helpful for later parts of the notebook\n",
    "# Run this cell to map the user email to a user_id column and remove the email column\n",
    "\n",
    "def email_mapper():\n",
    "    coded_dict = dict()\n",
    "    cter = 1\n",
    "    email_encoded = []\n",
    "    \n",
    "    for val in df['email']:\n",
    "        if val not in coded_dict:\n",
    "            coded_dict[val] = cter\n",
    "            cter+=1\n",
    "        \n",
    "        email_encoded.append(coded_dict[val])\n",
    "    return email_encoded\n",
    "\n",
    "email_encoded = email_mapper()\n",
    "del df['email']\n",
    "df['user_id'] = email_encoded\n",
    "\n",
    "# show header\n",
    "df.head()"
   ]
  },
  {
   "cell_type": "code",
   "execution_count": 150,
   "metadata": {},
   "outputs": [
    {
     "name": "stdout",
     "output_type": "stream",
     "text": [
      "It looks like you have everything right here! Nice job!\n"
     ]
    }
   ],
   "source": [
    "## If you stored all your results in the variable names above, \n",
    "## you shouldn't need to change anything in this cell\n",
    "\n",
    "sol_1_dict = {\n",
    "    '`50% of individuals have _____ or fewer interactions.`': median_val,\n",
    "    '`The total number of user-article interactions in the dataset is ______.`': user_article_interactions,\n",
    "    '`The maximum number of user-article interactions by any 1 user is ______.`': max_views_by_user,\n",
    "    '`The most viewed article in the dataset was viewed _____ times.`': max_views,\n",
    "    '`The article_id of the most viewed article is ______.`': most_viewed_article_id,\n",
    "    '`The number of unique articles that have at least 1 rating ______.`': unique_articles,\n",
    "    '`The number of unique users in the dataset is ______`': unique_users,\n",
    "    '`The number of unique articles on the IBM platform`': total_articles\n",
    "}\n",
    "\n",
    "# Test your dictionary against the solution\n",
    "t.sol_1_test(sol_1_dict)"
   ]
  },
  {
   "cell_type": "markdown",
   "metadata": {},
   "source": [
    "### <a class=\"anchor\" id=\"Rank\">Part II: Rank-Based Recommendations</a>\n",
    "\n",
    "Unlike in the earlier lessons, we don't actually have ratings for whether a user liked an article or not.  We only know that a user has interacted with an article.  In these cases, the popularity of an article can really only be based on how often an article was interacted with.\n",
    "\n",
    "`1.` Fill in the function below to return the **n** top articles ordered with most interactions as the top. Test your function using the tests below."
   ]
  },
  {
   "cell_type": "code",
   "execution_count": 151,
   "metadata": {},
   "outputs": [],
   "source": [
    "def get_top_articles(n, df=df):\n",
    "    '''\n",
    "    INPUT:\n",
    "    n - (int) the number of top articles to return\n",
    "    df - (pandas dataframe) df as defined at the top of the notebook \n",
    "    \n",
    "    OUTPUT:\n",
    "    top_articles - (list) A list of the top 'n' article titles \n",
    "    \n",
    "    '''\n",
    "    # Your code here\n",
    "    top_articles = list(df['title'].value_counts().sort_values(ascending=False).index)[0:n]\n",
    "    \n",
    "    return top_articles # Return the top article titles from df (not df_content)\n",
    "\n",
    "def get_top_article_ids(n, df=df):\n",
    "    '''\n",
    "    INPUT:\n",
    "    n - (int) the number of top articles to return\n",
    "    df - (pandas dataframe) df as defined at the top of the notebook \n",
    "    \n",
    "    OUTPUT:\n",
    "    top_articles - (list) A list of the top 'n' article titles \n",
    "    \n",
    "    '''\n",
    "    # Your code here\n",
    "    top_articles = list(df['article_id'].value_counts().sort_values(ascending=False).index)[0:n]\n",
    "\n",
    " \n",
    "    return top_articles # Return the top article ids"
   ]
  },
  {
   "cell_type": "code",
   "execution_count": 152,
   "metadata": {},
   "outputs": [
    {
     "data": {
      "text/html": [
       "<div>\n",
       "<style scoped>\n",
       "    .dataframe tbody tr th:only-of-type {\n",
       "        vertical-align: middle;\n",
       "    }\n",
       "\n",
       "    .dataframe tbody tr th {\n",
       "        vertical-align: top;\n",
       "    }\n",
       "\n",
       "    .dataframe thead th {\n",
       "        text-align: right;\n",
       "    }\n",
       "</style>\n",
       "<table border=\"1\" class=\"dataframe\">\n",
       "  <thead>\n",
       "    <tr style=\"text-align: right;\">\n",
       "      <th></th>\n",
       "      <th>article_id</th>\n",
       "      <th>title</th>\n",
       "      <th>user_id</th>\n",
       "    </tr>\n",
       "  </thead>\n",
       "  <tbody>\n",
       "    <tr>\n",
       "      <th>0</th>\n",
       "      <td>1430.0</td>\n",
       "      <td>using pixiedust for fast, flexible, and easier...</td>\n",
       "      <td>1</td>\n",
       "    </tr>\n",
       "    <tr>\n",
       "      <th>1</th>\n",
       "      <td>1314.0</td>\n",
       "      <td>healthcare python streaming application demo</td>\n",
       "      <td>2</td>\n",
       "    </tr>\n",
       "    <tr>\n",
       "      <th>2</th>\n",
       "      <td>1429.0</td>\n",
       "      <td>use deep learning for image classification</td>\n",
       "      <td>3</td>\n",
       "    </tr>\n",
       "    <tr>\n",
       "      <th>3</th>\n",
       "      <td>1338.0</td>\n",
       "      <td>ml optimization using cognitive assistant</td>\n",
       "      <td>4</td>\n",
       "    </tr>\n",
       "    <tr>\n",
       "      <th>4</th>\n",
       "      <td>1276.0</td>\n",
       "      <td>deploy your python model as a restful api</td>\n",
       "      <td>5</td>\n",
       "    </tr>\n",
       "  </tbody>\n",
       "</table>\n",
       "</div>"
      ],
      "text/plain": [
       "   article_id                                              title  user_id\n",
       "0      1430.0  using pixiedust for fast, flexible, and easier...        1\n",
       "1      1314.0       healthcare python streaming application demo        2\n",
       "2      1429.0         use deep learning for image classification        3\n",
       "3      1338.0          ml optimization using cognitive assistant        4\n",
       "4      1276.0          deploy your python model as a restful api        5"
      ]
     },
     "execution_count": 152,
     "metadata": {},
     "output_type": "execute_result"
    }
   ],
   "source": [
    "df.head()"
   ]
  },
  {
   "cell_type": "code",
   "execution_count": 153,
   "metadata": {},
   "outputs": [
    {
     "name": "stdout",
     "output_type": "stream",
     "text": [
      "['use deep learning for image classification', 'insights from new york car accident reports', 'visualize car data with brunel', 'use xgboost, scikit-learn & ibm watson machine learning apis', 'predicting churn with the spss random tree algorithm', 'healthcare python streaming application demo', 'finding optimal locations of new store using decision optimization', 'apache spark lab, part 1: basic concepts', 'analyze energy consumption in buildings', 'gosales transactions for logistic regression model']\n",
      "[1429.0, 1330.0, 1431.0, 1427.0, 1364.0, 1314.0, 1293.0, 1170.0, 1162.0, 1304.0]\n"
     ]
    }
   ],
   "source": [
    "print(get_top_articles(10))\n",
    "print(get_top_article_ids(10))"
   ]
  },
  {
   "cell_type": "code",
   "execution_count": 154,
   "metadata": {},
   "outputs": [
    {
     "name": "stdout",
     "output_type": "stream",
     "text": [
      "Your top_5 looks like the solution list! Nice job.\n",
      "Your top_10 looks like the solution list! Nice job.\n",
      "Your top_20 looks like the solution list! Nice job.\n"
     ]
    }
   ],
   "source": [
    "# Test your function by returning the top 5, 10, and 20 articles\n",
    "top_5 = get_top_articles(5)\n",
    "top_10 = get_top_articles(10)\n",
    "top_20 = get_top_articles(20)\n",
    "\n",
    "# Test each of your three lists from above\n",
    "t.sol_2_test(get_top_articles)"
   ]
  },
  {
   "cell_type": "markdown",
   "metadata": {},
   "source": [
    "### <a class=\"anchor\" id=\"User-User\">Part III: User-User Based Collaborative Filtering</a>\n",
    "\n",
    "\n",
    "`1.` Use the function below to reformat the **df** dataframe to be shaped with users as the rows and articles as the columns.  \n",
    "\n",
    "* Each **user** should only appear in each **row** once.\n",
    "\n",
    "\n",
    "* Each **article** should only show up in one **column**.  \n",
    "\n",
    "\n",
    "* **If a user has interacted with an article, then place a 1 where the user-row meets for that article-column**.  It does not matter how many times a user has interacted with the article, all entries where a user has interacted with an article should be a 1.  \n",
    "\n",
    "\n",
    "* **If a user has not interacted with an item, then place a zero where the user-row meets for that article-column**. \n",
    "\n",
    "Use the tests to make sure the basic structure of your matrix matches what is expected by the solution."
   ]
  },
  {
   "cell_type": "code",
   "execution_count": 82,
   "metadata": {},
   "outputs": [],
   "source": [
    "# create the user-article matrix with 1's and 0's\n",
    "\n",
    "def create_user_item_matrix(df):\n",
    "    '''\n",
    "    INPUT:\n",
    "    df - pandas dataframe with article_id, title, user_id columns\n",
    "    \n",
    "    OUTPUT:\n",
    "    user_item - user item matrix \n",
    "    \n",
    "    Description:\n",
    "    Return a matrix with user ids as rows and article ids on the columns with 1 values where a user interacted with \n",
    "    an article and a 0 otherwise\n",
    "    '''\n",
    "    # Fill in the function here\n",
    "    user_item = pd.pivot_table(df, values = 'title', index='user_id', columns='article_id', \\\n",
    "        aggfunc=lambda x: 1 if len(x) > 0 else 0, fill_value=0)\n",
    "    \n",
    "    return user_item # return the user_item matrix \n",
    "\n",
    "user_item = create_user_item_matrix(df)"
   ]
  },
  {
   "cell_type": "code",
   "execution_count": 83,
   "metadata": {},
   "outputs": [
    {
     "name": "stdout",
     "output_type": "stream",
     "text": [
      "article_id  0.0     2.0     4.0     8.0     9.0     12.0    14.0    15.0    \\\n",
      "user_id                                                                      \n",
      "1                0       0       0       0       0       0       0       0   \n",
      "2                0       0       0       0       0       0       0       0   \n",
      "3                0       0       0       0       0       1       0       0   \n",
      "4                0       0       0       0       0       0       0       0   \n",
      "5                0       0       0       0       0       0       0       0   \n",
      "6                0       0       0       0       0       0       0       0   \n",
      "7                0       0       0       0       0       0       0       0   \n",
      "8                0       0       0       0       0       0       1       0   \n",
      "9                0       0       0       0       0       0       1       0   \n",
      "10               0       0       0       0       0       0       0       0   \n",
      "11               0       0       0       0       0       1       0       0   \n",
      "12               0       0       0       0       0       0       1       0   \n",
      "13               0       0       0       0       0       0       1       0   \n",
      "14               0       0       0       0       0       0       0       0   \n",
      "15               0       0       0       0       0       0       0       0   \n",
      "16               0       0       0       0       0       0       0       0   \n",
      "17               0       0       0       0       0       0       0       0   \n",
      "18               0       0       0       0       0       0       0       0   \n",
      "19               0       0       0       0       0       0       0       0   \n",
      "20               0       0       0       0       0       0       0       0   \n",
      "21               0       0       0       0       0       0       1       0   \n",
      "22               0       0       0       0       0       1       0       0   \n",
      "23               0       1       0       0       0       1       1       0   \n",
      "24               0       0       0       0       0       0       0       0   \n",
      "25               0       0       0       0       0       0       0       0   \n",
      "26               0       0       0       0       0       0       0       0   \n",
      "27               0       0       0       0       0       0       0       0   \n",
      "28               0       0       0       0       0       1       0       0   \n",
      "29               0       0       0       0       0       0       0       0   \n",
      "30               0       0       0       0       0       0       0       0   \n",
      "...            ...     ...     ...     ...     ...     ...     ...     ...   \n",
      "5120             0       0       0       0       0       0       0       0   \n",
      "5121             0       0       0       0       0       0       0       0   \n",
      "5122             0       0       0       1       0       0       0       0   \n",
      "5123             0       0       0       0       0       0       0       0   \n",
      "5124             0       0       0       0       0       0       0       0   \n",
      "5125             0       0       0       0       0       0       0       0   \n",
      "5126             0       0       0       0       0       0       0       0   \n",
      "5127             0       0       0       0       0       0       0       0   \n",
      "5128             0       0       0       0       0       0       0       0   \n",
      "5129             0       0       0       0       0       0       0       0   \n",
      "5130             0       0       0       0       0       0       0       0   \n",
      "5131             0       0       0       0       0       0       0       0   \n",
      "5132             0       0       0       0       0       0       0       0   \n",
      "5133             0       0       0       0       0       0       0       0   \n",
      "5134             0       0       0       0       0       0       0       0   \n",
      "5135             0       0       0       0       0       0       0       0   \n",
      "5136             0       0       0       0       0       0       0       0   \n",
      "5137             0       0       0       0       0       0       0       0   \n",
      "5138             0       0       0       0       0       1       1       0   \n",
      "5139             0       0       0       0       0       0       0       1   \n",
      "5140             0       1       0       0       0       1       0       0   \n",
      "5141             0       0       0       0       0       0       0       0   \n",
      "5142             0       0       0       0       0       0       1       0   \n",
      "5143             0       0       0       0       0       0       0       0   \n",
      "5144             0       0       0       0       0       0       0       0   \n",
      "5145             0       0       0       0       0       0       0       0   \n",
      "5146             0       0       0       0       0       0       0       0   \n",
      "5147             0       0       0       0       0       0       0       0   \n",
      "5148             0       0       0       0       0       0       0       0   \n",
      "5149             0       0       0       0       0       0       0       0   \n",
      "\n",
      "article_id  16.0    18.0     ...    1434.0  1435.0  1436.0  1437.0  1439.0  \\\n",
      "user_id                      ...                                             \n",
      "1                0       0   ...         0       0       1       0       1   \n",
      "2                0       0   ...         0       0       0       0       0   \n",
      "3                0       0   ...         0       0       1       0       0   \n",
      "4                0       0   ...         0       0       0       0       0   \n",
      "5                0       0   ...         0       0       0       0       0   \n",
      "6                0       0   ...         0       0       1       0       0   \n",
      "7                0       0   ...         0       0       0       0       0   \n",
      "8                0       0   ...         0       0       1       0       0   \n",
      "9                1       0   ...         0       0       0       0       0   \n",
      "10               0       0   ...         0       0       0       0       0   \n",
      "11               0       0   ...         0       0       0       0       0   \n",
      "12               0       0   ...         0       0       0       0       0   \n",
      "13               0       0   ...         0       0       0       0       0   \n",
      "14               0       0   ...         0       0       0       0       0   \n",
      "15               0       0   ...         0       0       0       0       0   \n",
      "16               0       0   ...         0       0       0       0       0   \n",
      "17               0       0   ...         0       0       0       0       0   \n",
      "18               0       0   ...         0       0       0       0       0   \n",
      "19               0       0   ...         0       0       0       0       0   \n",
      "20               0       0   ...         0       0       0       0       0   \n",
      "21               0       0   ...         0       0       1       1       0   \n",
      "22               0       0   ...         0       0       0       0       0   \n",
      "23               1       0   ...         0       0       1       0       1   \n",
      "24               0       0   ...         0       0       0       0       0   \n",
      "25               0       0   ...         0       0       0       0       0   \n",
      "26               0       0   ...         0       0       1       0       0   \n",
      "27               0       0   ...         0       0       0       0       0   \n",
      "28               0       0   ...         0       0       0       0       0   \n",
      "29               0       0   ...         0       0       0       0       0   \n",
      "30               0       0   ...         0       0       0       0       0   \n",
      "...            ...     ...   ...       ...     ...     ...     ...     ...   \n",
      "5120             0       0   ...         0       0       0       0       0   \n",
      "5121             0       0   ...         0       0       0       0       0   \n",
      "5122             0       0   ...         0       0       0       0       0   \n",
      "5123             0       0   ...         0       0       1       1       0   \n",
      "5124             0       0   ...         0       0       0       0       0   \n",
      "5125             0       0   ...         0       0       0       0       0   \n",
      "5126             0       0   ...         0       0       0       0       0   \n",
      "5127             0       0   ...         1       0       0       0       0   \n",
      "5128             0       0   ...         0       0       0       0       0   \n",
      "5129             0       0   ...         0       0       0       0       0   \n",
      "5130             0       0   ...         0       0       0       0       0   \n",
      "5131             0       0   ...         0       0       0       0       0   \n",
      "5132             0       0   ...         0       0       0       0       0   \n",
      "5133             0       0   ...         0       0       0       0       0   \n",
      "5134             0       0   ...         0       0       0       0       0   \n",
      "5135             0       0   ...         0       0       0       0       0   \n",
      "5136             0       0   ...         0       0       0       0       0   \n",
      "5137             0       0   ...         0       0       0       0       0   \n",
      "5138             0       0   ...         0       0       0       0       0   \n",
      "5139             0       0   ...         0       0       0       0       0   \n",
      "5140             0       0   ...         0       0       0       0       0   \n",
      "5141             0       0   ...         0       0       0       0       0   \n",
      "5142             0       0   ...         0       0       0       0       0   \n",
      "5143             0       0   ...         0       0       1       0       0   \n",
      "5144             0       0   ...         0       0       0       0       0   \n",
      "5145             0       0   ...         0       0       0       0       0   \n",
      "5146             0       0   ...         0       0       0       0       0   \n",
      "5147             0       0   ...         0       0       0       0       0   \n",
      "5148             0       0   ...         0       0       0       0       0   \n",
      "5149             1       0   ...         0       0       0       0       0   \n",
      "\n",
      "article_id  1440.0  1441.0  1442.0  1443.0  1444.0  \n",
      "user_id                                             \n",
      "1                0       0       0       0       0  \n",
      "2                0       0       0       0       0  \n",
      "3                0       0       0       0       0  \n",
      "4                0       0       0       0       0  \n",
      "5                0       0       0       0       0  \n",
      "6                0       0       0       0       0  \n",
      "7                0       0       0       0       0  \n",
      "8                0       0       0       0       0  \n",
      "9                0       0       0       0       0  \n",
      "10               0       0       0       0       0  \n",
      "11               0       0       0       0       0  \n",
      "12               0       0       0       0       0  \n",
      "13               0       0       0       0       0  \n",
      "14               0       0       0       0       0  \n",
      "15               0       0       0       0       0  \n",
      "16               0       0       0       0       0  \n",
      "17               0       0       0       0       0  \n",
      "18               0       0       0       0       0  \n",
      "19               0       0       0       0       0  \n",
      "20               0       0       0       0       0  \n",
      "21               0       0       0       0       0  \n",
      "22               0       0       0       0       0  \n",
      "23               0       0       0       0       0  \n",
      "24               1       0       0       0       0  \n",
      "25               0       0       0       0       0  \n",
      "26               0       0       0       0       0  \n",
      "27               0       0       0       0       0  \n",
      "28               0       0       0       0       0  \n",
      "29               0       0       0       0       0  \n",
      "30               0       0       0       0       0  \n",
      "...            ...     ...     ...     ...     ...  \n",
      "5120             0       0       0       0       0  \n",
      "5121             0       0       0       0       0  \n",
      "5122             0       0       0       0       0  \n",
      "5123             0       0       0       0       0  \n",
      "5124             0       0       0       0       0  \n",
      "5125             0       0       0       0       0  \n",
      "5126             0       0       0       0       0  \n",
      "5127             0       0       0       0       0  \n",
      "5128             0       0       0       0       0  \n",
      "5129             0       0       0       0       0  \n",
      "5130             0       0       0       0       0  \n",
      "5131             0       0       0       0       0  \n",
      "5132             0       0       0       0       0  \n",
      "5133             0       0       0       0       0  \n",
      "5134             0       0       0       0       0  \n",
      "5135             0       0       0       0       0  \n",
      "5136             0       0       0       0       0  \n",
      "5137             0       0       0       0       0  \n",
      "5138             0       0       0       0       0  \n",
      "5139             0       0       0       0       0  \n",
      "5140             0       0       0       0       0  \n",
      "5141             0       0       0       0       0  \n",
      "5142             0       0       0       0       0  \n",
      "5143             0       0       0       0       0  \n",
      "5144             0       0       0       0       0  \n",
      "5145             0       0       0       0       0  \n",
      "5146             0       0       0       0       0  \n",
      "5147             0       0       0       0       0  \n",
      "5148             0       0       0       0       0  \n",
      "5149             0       0       0       0       0  \n",
      "\n",
      "[5149 rows x 714 columns]\n"
     ]
    }
   ],
   "source": [
    "print(pd.pivot_table(df, values = 'title', index='user_id', columns='article_id', \\\n",
    "    aggfunc=lambda x: 1 if len(x) > 0 else 0, fill_value=0))"
   ]
  },
  {
   "cell_type": "code",
   "execution_count": 155,
   "metadata": {},
   "outputs": [
    {
     "name": "stdout",
     "output_type": "stream",
     "text": [
      "You have passed our quick tests!  Please proceed!\n"
     ]
    }
   ],
   "source": [
    "## Tests: You should just need to run this cell.  Don't change the code.\n",
    "assert user_item.shape[0] == 5149, \"Oops!  The number of users in the user-article matrix doesn't look right.\"\n",
    "assert user_item.shape[1] == 714, \"Oops!  The number of articles in the user-article matrix doesn't look right.\"\n",
    "assert user_item.sum(axis=1)[1] == 36, \"Oops!  The number of articles seen by user 1 doesn't look right.\"\n",
    "print(\"You have passed our quick tests!  Please proceed!\")"
   ]
  },
  {
   "cell_type": "markdown",
   "metadata": {},
   "source": [
    "`2.` Complete the function below which should take a user_id and provide an ordered list of the most similar users to that user (from most similar to least similar).  The returned result should not contain the provided user_id, as we know that each user is similar to him/herself. Because the results for each user here are binary, it (perhaps) makes sense to compute similarity as the dot product of two users. \n",
    "\n",
    "Use the tests to test your function."
   ]
  },
  {
   "cell_type": "code",
   "execution_count": 85,
   "metadata": {},
   "outputs": [],
   "source": [
    "def find_similar_users(user_id, user_item=user_item):\n",
    "    '''\n",
    "    INPUT:\n",
    "    user_id - (int) a user_id\n",
    "    user_item - (pandas dataframe) matrix of users by articles: \n",
    "                1's when a user has interacted with an article, 0 otherwise\n",
    "    \n",
    "    OUTPUT:\n",
    "    similar_users - (list) an ordered list where the closest users (largest dot product users)\n",
    "                    are listed first\n",
    "    \n",
    "    Description:\n",
    "    Computes the similarity of every pair of users based on the dot product\n",
    "    Returns an ordered\n",
    "    \n",
    "    '''\n",
    "    # compute similarity of each user to the provided user\n",
    "    # Store user-similarity score in dictionary\n",
    "    similarity_dict = {}\n",
    "    \n",
    "    # Array for user of interest\n",
    "    user_array = user_item.loc[user_id].values\n",
    "    \n",
    "    # Filtered array with user removed\n",
    "    user_item_filtered = user_item.drop(user_id)\n",
    "    \n",
    "    # Iterate through each user to calculate store the score\n",
    "    for index, row in user_item_filtered.iterrows():\n",
    "        similarity_dict[index] = np.dot(user_array, row.values)\n",
    "        \n",
    "    # sort by similarity\n",
    "    sorted_dict_desc = dict(sorted(similarity_dict.items(), key=lambda item: item[1], reverse=True))\n",
    "\n",
    "    # create list of just the ids\n",
    "    most_similar_users = list(sorted_dict_desc.keys())\n",
    "   \n",
    "    # remove the own user's id\n",
    "       \n",
    "    return most_similar_users # return a list of the users in order from most to least similar\n",
    "        "
   ]
  },
  {
   "cell_type": "code",
   "execution_count": 86,
   "metadata": {},
   "outputs": [
    {
     "name": "stdout",
     "output_type": "stream",
     "text": [
      "{12: 5, 3524: 4, 8: 3, 131: 3, 535: 3, 734: 3, 2975: 3, 3601: 3, 3870: 3, 4021: 3, 21: 2, 23: 2, 38: 2, 49: 2, 88: 2, 94: 2, 98: 2, 107: 2, 126: 2, 169: 2, 170: 2, 181: 2, 184: 2, 203: 2, 227: 2, 242: 2, 256: 2, 268: 2, 295: 2, 395: 2, 402: 2, 404: 2, 484: 2, 538: 2, 600: 2, 686: 2, 721: 2, 750: 2, 754: 2, 765: 2, 887: 2, 912: 2, 1024: 2, 1172: 2, 1198: 2, 1491: 2, 1718: 2, 2324: 2, 3006: 2, 3058: 2, 3169: 2, 3172: 2, 3269: 2, 3338: 2, 3377: 2, 3378: 2, 3430: 2, 3540: 2, 3637: 2, 3651: 2, 3697: 2, 3763: 2, 3764: 2, 3765: 2, 3768: 2, 3782: 2, 3830: 2, 3910: 2, 4173: 2, 4197: 2, 4207: 2, 4386: 2, 4427: 2, 4459: 2, 4584: 2, 4642: 2, 4755: 2, 4785: 2, 4892: 2, 4900: 2, 5041: 2, 4: 1, 9: 1, 13: 1, 25: 1, 26: 1, 27: 1, 34: 1, 36: 1, 37: 1, 40: 1, 46: 1, 50: 1, 51: 1, 52: 1, 55: 1, 56: 1, 60: 1, 64: 1, 66: 1, 67: 1, 72: 1, 73: 1, 75: 1, 87: 1, 100: 1, 112: 1, 122: 1, 129: 1, 135: 1, 144: 1, 147: 1, 150: 1, 153: 1, 154: 1, 168: 1, 171: 1, 187: 1, 194: 1, 197: 1, 199: 1, 204: 1, 205: 1, 212: 1, 215: 1, 217: 1, 219: 1, 239: 1, 240: 1, 249: 1, 262: 1, 267: 1, 277: 1, 290: 1, 292: 1, 296: 1, 302: 1, 304: 1, 312: 1, 313: 1, 322: 1, 323: 1, 326: 1, 354: 1, 360: 1, 362: 1, 368: 1, 370: 1, 383: 1, 409: 1, 411: 1, 417: 1, 419: 1, 421: 1, 456: 1, 500: 1, 508: 1, 513: 1, 515: 1, 518: 1, 521: 1, 536: 1, 584: 1, 601: 1, 606: 1, 607: 1, 621: 1, 624: 1, 626: 1, 638: 1, 646: 1, 649: 1, 651: 1, 661: 1, 669: 1, 670: 1, 673: 1, 682: 1, 688: 1, 693: 1, 699: 1, 700: 1, 704: 1, 710: 1, 722: 1, 724: 1, 732: 1, 736: 1, 741: 1, 746: 1, 751: 1, 753: 1, 760: 1, 764: 1, 783: 1, 785: 1, 786: 1, 791: 1, 794: 1, 797: 1, 798: 1, 807: 1, 814: 1, 820: 1, 828: 1, 832: 1, 838: 1, 845: 1, 896: 1, 907: 1, 908: 1, 914: 1, 918: 1, 922: 1, 924: 1, 926: 1, 927: 1, 935: 1, 936: 1, 938: 1, 940: 1, 942: 1, 944: 1, 957: 1, 959: 1, 982: 1, 985: 1, 986: 1, 987: 1, 1004: 1, 1005: 1, 1021: 1, 1025: 1, 1029: 1, 1041: 1, 1045: 1, 1048: 1, 1056: 1, 1057: 1, 1062: 1, 1068: 1, 1069: 1, 1087: 1, 1111: 1, 1114: 1, 1115: 1, 1130: 1, 1148: 1, 1155: 1, 1160: 1, 1163: 1, 1166: 1, 1170: 1, 1177: 1, 1191: 1, 1225: 1, 1228: 1, 1232: 1, 1240: 1, 1247: 1, 1248: 1, 1250: 1, 1261: 1, 1262: 1, 1264: 1, 1266: 1, 1279: 1, 1303: 1, 1306: 1, 1310: 1, 1317: 1, 1328: 1, 1334: 1, 1338: 1, 1348: 1, 1362: 1, 1365: 1, 1383: 1, 1386: 1, 1388: 1, 1392: 1, 1405: 1, 1409: 1, 1415: 1, 1428: 1, 1437: 1, 1449: 1, 1463: 1, 1476: 1, 1486: 1, 1493: 1, 1520: 1, 1533: 1, 1541: 1, 1544: 1, 1545: 1, 1561: 1, 1577: 1, 1588: 1, 1617: 1, 1636: 1, 1666: 1, 1669: 1, 1684: 1, 1689: 1, 1696: 1, 1710: 1, 1715: 1, 1716: 1, 1736: 1, 1763: 1, 1810: 1, 1813: 1, 1821: 1, 1823: 1, 1828: 1, 1846: 1, 1870: 1, 1893: 1, 1906: 1, 1961: 1, 1968: 1, 1978: 1, 1987: 1, 1999: 1, 2036: 1, 2037: 1, 2042: 1, 2055: 1, 2104: 1, 2120: 1, 2126: 1, 2127: 1, 2144: 1, 2156: 1, 2159: 1, 2181: 1, 2205: 1, 2274: 1, 2294: 1, 2312: 1, 2317: 1, 2331: 1, 2349: 1, 2365: 1, 2399: 1, 2403: 1, 2407: 1, 2415: 1, 2453: 1, 2461: 1, 2484: 1, 2492: 1, 2506: 1, 2602: 1, 2623: 1, 2641: 1, 2684: 1, 2715: 1, 2751: 1, 2773: 1, 2796: 1, 2812: 1, 2841: 1, 2842: 1, 2843: 1, 2846: 1, 2847: 1, 2849: 1, 2853: 1, 2854: 1, 2891: 1, 2893: 1, 2901: 1, 2912: 1, 2924: 1, 2931: 1, 2935: 1, 2950: 1, 2955: 1, 2974: 1, 2976: 1, 2981: 1, 2982: 1, 2989: 1, 2993: 1, 3001: 1, 3005: 1, 3007: 1, 3034: 1, 3043: 1, 3054: 1, 3061: 1, 3072: 1, 3090: 1, 3099: 1, 3109: 1, 3111: 1, 3118: 1, 3124: 1, 3132: 1, 3136: 1, 3147: 1, 3163: 1, 3190: 1, 3194: 1, 3200: 1, 3208: 1, 3217: 1, 3225: 1, 3235: 1, 3244: 1, 3253: 1, 3254: 1, 3264: 1, 3284: 1, 3292: 1, 3310: 1, 3313: 1, 3318: 1, 3319: 1, 3320: 1, 3323: 1, 3346: 1, 3369: 1, 3370: 1, 3395: 1, 3396: 1, 3397: 1, 3402: 1, 3403: 1, 3416: 1, 3417: 1, 3421: 1, 3429: 1, 3433: 1, 3434: 1, 3441: 1, 3446: 1, 3466: 1, 3467: 1, 3469: 1, 3474: 1, 3476: 1, 3478: 1, 3483: 1, 3514: 1, 3527: 1, 3548: 1, 3553: 1, 3558: 1, 3559: 1, 3570: 1, 3580: 1, 3596: 1, 3605: 1, 3611: 1, 3621: 1, 3622: 1, 3628: 1, 3634: 1, 3638: 1, 3654: 1, 3672: 1, 3674: 1, 3684: 1, 3703: 1, 3705: 1, 3713: 1, 3724: 1, 3738: 1, 3741: 1, 3754: 1, 3775: 1, 3783: 1, 3794: 1, 3801: 1, 3805: 1, 3812: 1, 3818: 1, 3829: 1, 3831: 1, 3856: 1, 3864: 1, 3897: 1, 3907: 1, 3935: 1, 3938: 1, 3951: 1, 3960: 1, 3967: 1, 3970: 1, 3982: 1, 3999: 1, 4003: 1, 4015: 1, 4055: 1, 4061: 1, 4067: 1, 4071: 1, 4073: 1, 4076: 1, 4080: 1, 4096: 1, 4097: 1, 4099: 1, 4102: 1, 4107: 1, 4128: 1, 4137: 1, 4139: 1, 4145: 1, 4180: 1, 4201: 1, 4209: 1, 4210: 1, 4220: 1, 4237: 1, 4241: 1, 4250: 1, 4254: 1, 4258: 1, 4260: 1, 4270: 1, 4275: 1, 4286: 1, 4287: 1, 4291: 1, 4298: 1, 4308: 1, 4311: 1, 4326: 1, 4336: 1, 4349: 1, 4363: 1, 4417: 1, 4429: 1, 4432: 1, 4439: 1, 4449: 1, 4453: 1, 4454: 1, 4456: 1, 4487: 1, 4489: 1, 4491: 1, 4494: 1, 4497: 1, 4516: 1, 4517: 1, 4526: 1, 4548: 1, 4568: 1, 4591: 1, 4617: 1, 4618: 1, 4619: 1, 4623: 1, 4628: 1, 4660: 1, 4664: 1, 4678: 1, 4683: 1, 4694: 1, 4698: 1, 4718: 1, 4723: 1, 4724: 1, 4725: 1, 4732: 1, 4747: 1, 4748: 1, 4761: 1, 4768: 1, 4791: 1, 4804: 1, 4826: 1, 4835: 1, 4837: 1, 4846: 1, 4848: 1, 4876: 1, 4895: 1, 4918: 1, 4932: 1, 4934: 1, 4947: 1, 4953: 1, 4958: 1, 4970: 1, 4977: 1, 4985: 1, 4995: 1, 5001: 1, 5021: 1, 5058: 1, 5059: 1, 5062: 1, 5082: 1, 5088: 1, 5127: 1, 5138: 1, 5140: 1, 5142: 1, 5145: 1, 5148: 1, 1: 0, 2: 0, 3: 0, 5: 0, 6: 0, 7: 0, 10: 0, 11: 0, 14: 0, 15: 0, 16: 0, 17: 0, 18: 0, 19: 0, 20: 0, 22: 0, 24: 0, 28: 0, 29: 0, 30: 0, 31: 0, 32: 0, 33: 0, 35: 0, 39: 0, 41: 0, 42: 0, 43: 0, 44: 0, 45: 0, 47: 0, 48: 0, 53: 0, 54: 0, 57: 0, 58: 0, 59: 0, 61: 0, 62: 0, 63: 0, 65: 0, 68: 0, 69: 0, 70: 0, 71: 0, 74: 0, 76: 0, 77: 0, 78: 0, 79: 0, 80: 0, 81: 0, 82: 0, 83: 0, 84: 0, 85: 0, 86: 0, 89: 0, 90: 0, 91: 0, 92: 0, 93: 0, 95: 0, 96: 0, 97: 0, 99: 0, 101: 0, 102: 0, 103: 0, 104: 0, 105: 0, 106: 0, 108: 0, 109: 0, 110: 0, 111: 0, 113: 0, 114: 0, 115: 0, 116: 0, 117: 0, 118: 0, 119: 0, 120: 0, 121: 0, 123: 0, 124: 0, 125: 0, 127: 0, 128: 0, 130: 0, 132: 0, 133: 0, 134: 0, 136: 0, 137: 0, 138: 0, 139: 0, 140: 0, 141: 0, 142: 0, 143: 0, 145: 0, 146: 0, 148: 0, 149: 0, 151: 0, 152: 0, 155: 0, 156: 0, 157: 0, 158: 0, 159: 0, 160: 0, 161: 0, 162: 0, 163: 0, 164: 0, 165: 0, 166: 0, 167: 0, 172: 0, 173: 0, 174: 0, 175: 0, 176: 0, 177: 0, 178: 0, 179: 0, 180: 0, 182: 0, 183: 0, 185: 0, 186: 0, 188: 0, 189: 0, 190: 0, 191: 0, 192: 0, 193: 0, 195: 0, 196: 0, 198: 0, 200: 0, 201: 0, 202: 0, 206: 0, 207: 0, 208: 0, 209: 0, 210: 0, 211: 0, 213: 0, 214: 0, 216: 0, 218: 0, 220: 0, 221: 0, 222: 0, 223: 0, 224: 0, 225: 0, 226: 0, 228: 0, 229: 0, 230: 0, 231: 0, 232: 0, 233: 0, 234: 0, 235: 0, 236: 0, 237: 0, 238: 0, 241: 0, 243: 0, 244: 0, 245: 0, 246: 0, 247: 0, 248: 0, 250: 0, 251: 0, 252: 0, 253: 0, 254: 0, 255: 0, 257: 0, 258: 0, 259: 0, 260: 0, 261: 0, 263: 0, 264: 0, 265: 0, 266: 0, 269: 0, 270: 0, 271: 0, 272: 0, 273: 0, 274: 0, 275: 0, 276: 0, 278: 0, 279: 0, 280: 0, 281: 0, 282: 0, 283: 0, 284: 0, 285: 0, 286: 0, 287: 0, 288: 0, 289: 0, 291: 0, 293: 0, 294: 0, 297: 0, 298: 0, 299: 0, 300: 0, 301: 0, 303: 0, 305: 0, 306: 0, 307: 0, 308: 0, 309: 0, 310: 0, 311: 0, 314: 0, 315: 0, 316: 0, 317: 0, 318: 0, 319: 0, 320: 0, 321: 0, 324: 0, 325: 0, 327: 0, 328: 0, 329: 0, 330: 0, 331: 0, 332: 0, 333: 0, 334: 0, 335: 0, 336: 0, 337: 0, 338: 0, 339: 0, 340: 0, 341: 0, 342: 0, 343: 0, 344: 0, 345: 0, 346: 0, 347: 0, 348: 0, 349: 0, 350: 0, 351: 0, 352: 0, 353: 0, 355: 0, 356: 0, 357: 0, 358: 0, 359: 0, 361: 0, 363: 0, 364: 0, 365: 0, 366: 0, 367: 0, 369: 0, 371: 0, 372: 0, 373: 0, 374: 0, 375: 0, 376: 0, 377: 0, 378: 0, 379: 0, 380: 0, 381: 0, 382: 0, 384: 0, 385: 0, 386: 0, 387: 0, 388: 0, 389: 0, 390: 0, 391: 0, 392: 0, 393: 0, 394: 0, 396: 0, 397: 0, 398: 0, 399: 0, 400: 0, 401: 0, 403: 0, 405: 0, 406: 0, 407: 0, 408: 0, 410: 0, 412: 0, 413: 0, 414: 0, 415: 0, 416: 0, 418: 0, 420: 0, 422: 0, 423: 0, 424: 0, 425: 0, 426: 0, 427: 0, 428: 0, 429: 0, 430: 0, 431: 0, 432: 0, 433: 0, 434: 0, 435: 0, 436: 0, 437: 0, 438: 0, 439: 0, 440: 0, 441: 0, 442: 0, 443: 0, 444: 0, 445: 0, 446: 0, 447: 0, 448: 0, 449: 0, 450: 0, 451: 0, 452: 0, 453: 0, 454: 0, 455: 0, 457: 0, 458: 0, 459: 0, 460: 0, 461: 0, 462: 0, 463: 0, 464: 0, 465: 0, 466: 0, 467: 0, 468: 0, 469: 0, 470: 0, 471: 0, 472: 0, 473: 0, 474: 0, 475: 0, 476: 0, 477: 0, 478: 0, 479: 0, 480: 0, 481: 0, 482: 0, 483: 0, 485: 0, 486: 0, 487: 0, 488: 0, 489: 0, 490: 0, 491: 0, 492: 0, 493: 0, 494: 0, 495: 0, 496: 0, 497: 0, 498: 0, 499: 0, 501: 0, 502: 0, 503: 0, 504: 0, 505: 0, 506: 0, 507: 0, 509: 0, 510: 0, 511: 0, 512: 0, 514: 0, 516: 0, 517: 0, 519: 0, 520: 0, 522: 0, 523: 0, 524: 0, 525: 0, 526: 0, 527: 0, 528: 0, 529: 0, 530: 0, 531: 0, 532: 0, 533: 0, 534: 0, 537: 0, 539: 0, 540: 0, 541: 0, 542: 0, 543: 0, 544: 0, 545: 0, 546: 0, 547: 0, 548: 0, 549: 0, 550: 0, 551: 0, 552: 0, 553: 0, 554: 0, 555: 0, 556: 0, 557: 0, 558: 0, 559: 0, 560: 0, 561: 0, 562: 0, 563: 0, 564: 0, 565: 0, 566: 0, 567: 0, 568: 0, 569: 0, 570: 0, 571: 0, 572: 0, 573: 0, 574: 0, 575: 0, 576: 0, 577: 0, 578: 0, 579: 0, 580: 0, 581: 0, 582: 0, 583: 0, 585: 0, 586: 0, 587: 0, 588: 0, 589: 0, 590: 0, 591: 0, 592: 0, 593: 0, 594: 0, 595: 0, 596: 0, 597: 0, 598: 0, 599: 0, 602: 0, 603: 0, 604: 0, 605: 0, 608: 0, 609: 0, 610: 0, 611: 0, 612: 0, 613: 0, 614: 0, 615: 0, 616: 0, 617: 0, 618: 0, 619: 0, 620: 0, 622: 0, 623: 0, 625: 0, 627: 0, 628: 0, 629: 0, 630: 0, 631: 0, 632: 0, 633: 0, 634: 0, 635: 0, 636: 0, 637: 0, 639: 0, 640: 0, 641: 0, 642: 0, 643: 0, 644: 0, 645: 0, 647: 0, 648: 0, 650: 0, 652: 0, 653: 0, 654: 0, 655: 0, 656: 0, 657: 0, 658: 0, 659: 0, 660: 0, 662: 0, 663: 0, 664: 0, 665: 0, 666: 0, 667: 0, 668: 0, 671: 0, 672: 0, 674: 0, 675: 0, 676: 0, 677: 0, 678: 0, 679: 0, 680: 0, 681: 0, 683: 0, 684: 0, 685: 0, 687: 0, 689: 0, 690: 0, 691: 0, 692: 0, 694: 0, 695: 0, 696: 0, 697: 0, 698: 0, 701: 0, 702: 0, 703: 0, 705: 0, 706: 0, 707: 0, 708: 0, 709: 0, 711: 0, 712: 0, 713: 0, 714: 0, 715: 0, 716: 0, 717: 0, 718: 0, 719: 0, 720: 0, 723: 0, 725: 0, 726: 0, 727: 0, 728: 0, 729: 0, 730: 0, 731: 0, 733: 0, 735: 0, 737: 0, 738: 0, 739: 0, 740: 0, 742: 0, 743: 0, 744: 0, 745: 0, 747: 0, 748: 0, 749: 0, 752: 0, 755: 0, 756: 0, 757: 0, 758: 0, 759: 0, 761: 0, 762: 0, 763: 0, 766: 0, 767: 0, 768: 0, 769: 0, 770: 0, 771: 0, 772: 0, 773: 0, 774: 0, 775: 0, 776: 0, 777: 0, 778: 0, 779: 0, 780: 0, 781: 0, 782: 0, 784: 0, 787: 0, 788: 0, 789: 0, 790: 0, 792: 0, 793: 0, 795: 0, 796: 0, 799: 0, 800: 0, 801: 0, 802: 0, 803: 0, 804: 0, 805: 0, 806: 0, 808: 0, 809: 0, 810: 0, 811: 0, 812: 0, 813: 0, 815: 0, 816: 0, 817: 0, 818: 0, 819: 0, 821: 0, 822: 0, 823: 0, 824: 0, 825: 0, 826: 0, 827: 0, 829: 0, 830: 0, 831: 0, 833: 0, 834: 0, 835: 0, 836: 0, 837: 0, 839: 0, 840: 0, 841: 0, 842: 0, 843: 0, 844: 0, 846: 0, 847: 0, 848: 0, 849: 0, 850: 0, 851: 0, 852: 0, 853: 0, 854: 0, 855: 0, 856: 0, 857: 0, 858: 0, 859: 0, 860: 0, 861: 0, 862: 0, 863: 0, 864: 0, 865: 0, 866: 0, 867: 0, 868: 0, 869: 0, 870: 0, 871: 0, 872: 0, 873: 0, 874: 0, 875: 0, 876: 0, 877: 0, 878: 0, 879: 0, 880: 0, 881: 0, 882: 0, 883: 0, 884: 0, 885: 0, 886: 0, 888: 0, 889: 0, 890: 0, 891: 0, 892: 0, 893: 0, 894: 0, 895: 0, 897: 0, 898: 0, 899: 0, 900: 0, 901: 0, 902: 0, 903: 0, 904: 0, 905: 0, 906: 0, 909: 0, 910: 0, 911: 0, 913: 0, 915: 0, 916: 0, 917: 0, 919: 0, 920: 0, 921: 0, 923: 0, 925: 0, 928: 0, 929: 0, 930: 0, 931: 0, 932: 0, 933: 0, 934: 0, 937: 0, 939: 0, 941: 0, 943: 0, 945: 0, 946: 0, 947: 0, 948: 0, 949: 0, 950: 0, 951: 0, 952: 0, 953: 0, 954: 0, 955: 0, 956: 0, 958: 0, 960: 0, 961: 0, 962: 0, 963: 0, 964: 0, 965: 0, 966: 0, 967: 0, 968: 0, 969: 0, 970: 0, 971: 0, 972: 0, 973: 0, 974: 0, 975: 0, 976: 0, 977: 0, 978: 0, 979: 0, 980: 0, 981: 0, 983: 0, 984: 0, 988: 0, 989: 0, 990: 0, 991: 0, 992: 0, 993: 0, 994: 0, 995: 0, 996: 0, 997: 0, 998: 0, 999: 0, 1000: 0, 1001: 0, 1002: 0, 1003: 0, 1006: 0, 1007: 0, 1008: 0, 1009: 0, 1010: 0, 1011: 0, 1012: 0, 1013: 0, 1014: 0, 1015: 0, 1016: 0, 1017: 0, 1018: 0, 1019: 0, 1020: 0, 1022: 0, 1023: 0, 1026: 0, 1027: 0, 1028: 0, 1030: 0, 1031: 0, 1032: 0, 1033: 0, 1034: 0, 1035: 0, 1036: 0, 1037: 0, 1038: 0, 1039: 0, 1040: 0, 1042: 0, 1043: 0, 1044: 0, 1046: 0, 1047: 0, 1049: 0, 1050: 0, 1051: 0, 1052: 0, 1053: 0, 1054: 0, 1055: 0, 1058: 0, 1059: 0, 1060: 0, 1061: 0, 1063: 0, 1064: 0, 1065: 0, 1066: 0, 1067: 0, 1070: 0, 1071: 0, 1072: 0, 1073: 0, 1074: 0, 1075: 0, 1076: 0, 1077: 0, 1078: 0, 1079: 0, 1080: 0, 1081: 0, 1082: 0, 1083: 0, 1084: 0, 1085: 0, 1086: 0, 1088: 0, 1089: 0, 1090: 0, 1091: 0, 1092: 0, 1093: 0, 1094: 0, 1095: 0, 1096: 0, 1097: 0, 1098: 0, 1099: 0, 1100: 0, 1101: 0, 1102: 0, 1103: 0, 1104: 0, 1105: 0, 1106: 0, 1107: 0, 1108: 0, 1109: 0, 1110: 0, 1112: 0, 1113: 0, 1116: 0, 1117: 0, 1118: 0, 1119: 0, 1120: 0, 1121: 0, 1122: 0, 1123: 0, 1124: 0, 1125: 0, 1126: 0, 1127: 0, 1128: 0, 1129: 0, 1131: 0, 1132: 0, 1133: 0, 1134: 0, 1135: 0, 1136: 0, 1137: 0, 1138: 0, 1139: 0, 1140: 0, 1141: 0, 1142: 0, 1143: 0, 1144: 0, 1145: 0, 1146: 0, 1147: 0, 1149: 0, 1150: 0, 1151: 0, 1152: 0, 1153: 0, 1154: 0, 1156: 0, 1157: 0, 1158: 0, 1159: 0, 1161: 0, 1162: 0, 1164: 0, 1165: 0, 1167: 0, 1168: 0, 1169: 0, 1171: 0, 1173: 0, 1174: 0, 1175: 0, 1176: 0, 1178: 0, 1179: 0, 1180: 0, 1181: 0, 1182: 0, 1183: 0, 1184: 0, 1185: 0, 1186: 0, 1187: 0, 1188: 0, 1189: 0, 1190: 0, 1192: 0, 1193: 0, 1194: 0, 1195: 0, 1196: 0, 1197: 0, 1199: 0, 1200: 0, 1201: 0, 1202: 0, 1203: 0, 1204: 0, 1205: 0, 1206: 0, 1207: 0, 1208: 0, 1209: 0, 1210: 0, 1211: 0, 1212: 0, 1213: 0, 1214: 0, 1215: 0, 1216: 0, 1217: 0, 1218: 0, 1219: 0, 1220: 0, 1221: 0, 1222: 0, 1223: 0, 1224: 0, 1226: 0, 1227: 0, 1229: 0, 1230: 0, 1231: 0, 1233: 0, 1234: 0, 1235: 0, 1236: 0, 1237: 0, 1238: 0, 1239: 0, 1241: 0, 1242: 0, 1243: 0, 1244: 0, 1245: 0, 1246: 0, 1249: 0, 1251: 0, 1252: 0, 1253: 0, 1254: 0, 1255: 0, 1256: 0, 1257: 0, 1258: 0, 1259: 0, 1260: 0, 1263: 0, 1265: 0, 1267: 0, 1268: 0, 1269: 0, 1270: 0, 1271: 0, 1272: 0, 1273: 0, 1274: 0, 1275: 0, 1276: 0, 1277: 0, 1278: 0, 1280: 0, 1281: 0, 1282: 0, 1283: 0, 1284: 0, 1285: 0, 1286: 0, 1287: 0, 1288: 0, 1289: 0, 1290: 0, 1291: 0, 1292: 0, 1293: 0, 1294: 0, 1295: 0, 1296: 0, 1297: 0, 1298: 0, 1299: 0, 1300: 0, 1301: 0, 1302: 0, 1304: 0, 1305: 0, 1307: 0, 1308: 0, 1309: 0, 1311: 0, 1312: 0, 1313: 0, 1314: 0, 1315: 0, 1316: 0, 1318: 0, 1319: 0, 1320: 0, 1321: 0, 1322: 0, 1323: 0, 1324: 0, 1325: 0, 1326: 0, 1327: 0, 1329: 0, 1330: 0, 1331: 0, 1332: 0, 1333: 0, 1335: 0, 1336: 0, 1337: 0, 1339: 0, 1340: 0, 1341: 0, 1342: 0, 1343: 0, 1344: 0, 1345: 0, 1346: 0, 1347: 0, 1349: 0, 1350: 0, 1351: 0, 1352: 0, 1353: 0, 1354: 0, 1355: 0, 1356: 0, 1357: 0, 1358: 0, 1359: 0, 1360: 0, 1361: 0, 1363: 0, 1364: 0, 1366: 0, 1367: 0, 1368: 0, 1369: 0, 1370: 0, 1371: 0, 1372: 0, 1373: 0, 1374: 0, 1375: 0, 1376: 0, 1377: 0, 1378: 0, 1379: 0, 1380: 0, 1381: 0, 1382: 0, 1384: 0, 1385: 0, 1387: 0, 1389: 0, 1390: 0, 1391: 0, 1393: 0, 1394: 0, 1395: 0, 1396: 0, 1397: 0, 1398: 0, 1399: 0, 1400: 0, 1401: 0, 1402: 0, 1403: 0, 1404: 0, 1406: 0, 1407: 0, 1408: 0, 1410: 0, 1411: 0, 1412: 0, 1413: 0, 1414: 0, 1416: 0, 1417: 0, 1418: 0, 1419: 0, 1420: 0, 1421: 0, 1422: 0, 1423: 0, 1424: 0, 1425: 0, 1426: 0, 1427: 0, 1429: 0, 1430: 0, 1431: 0, 1432: 0, 1433: 0, 1434: 0, 1435: 0, 1436: 0, 1438: 0, 1439: 0, 1440: 0, 1441: 0, 1442: 0, 1443: 0, 1444: 0, 1445: 0, 1446: 0, 1447: 0, 1448: 0, 1450: 0, 1451: 0, 1452: 0, 1453: 0, 1454: 0, 1455: 0, 1456: 0, 1457: 0, 1458: 0, 1459: 0, 1460: 0, 1461: 0, 1462: 0, 1464: 0, 1465: 0, 1466: 0, 1467: 0, 1468: 0, 1469: 0, 1470: 0, 1471: 0, 1472: 0, 1473: 0, 1474: 0, 1475: 0, 1477: 0, 1478: 0, 1479: 0, 1480: 0, 1481: 0, 1482: 0, 1483: 0, 1484: 0, 1485: 0, 1487: 0, 1488: 0, 1489: 0, 1490: 0, 1492: 0, 1494: 0, 1495: 0, 1496: 0, 1497: 0, 1498: 0, 1499: 0, 1500: 0, 1501: 0, 1502: 0, 1503: 0, 1504: 0, 1505: 0, 1506: 0, 1507: 0, 1508: 0, 1509: 0, 1510: 0, 1511: 0, 1512: 0, 1513: 0, 1514: 0, 1515: 0, 1516: 0, 1517: 0, 1518: 0, 1519: 0, 1521: 0, 1522: 0, 1523: 0, 1524: 0, 1525: 0, 1526: 0, 1527: 0, 1528: 0, 1529: 0, 1530: 0, 1531: 0, 1532: 0, 1534: 0, 1535: 0, 1536: 0, 1537: 0, 1538: 0, 1539: 0, 1540: 0, 1542: 0, 1543: 0, 1546: 0, 1547: 0, 1548: 0, 1549: 0, 1550: 0, 1551: 0, 1552: 0, 1553: 0, 1554: 0, 1555: 0, 1556: 0, 1557: 0, 1558: 0, 1559: 0, 1560: 0, 1562: 0, 1563: 0, 1564: 0, 1565: 0, 1566: 0, 1567: 0, 1568: 0, 1569: 0, 1570: 0, 1571: 0, 1572: 0, 1573: 0, 1574: 0, 1575: 0, 1576: 0, 1578: 0, 1579: 0, 1580: 0, 1581: 0, 1582: 0, 1583: 0, 1584: 0, 1585: 0, 1586: 0, 1587: 0, 1589: 0, 1590: 0, 1591: 0, 1592: 0, 1593: 0, 1594: 0, 1595: 0, 1596: 0, 1597: 0, 1598: 0, 1599: 0, 1600: 0, 1601: 0, 1602: 0, 1603: 0, 1604: 0, 1605: 0, 1606: 0, 1607: 0, 1608: 0, 1609: 0, 1610: 0, 1611: 0, 1612: 0, 1613: 0, 1614: 0, 1615: 0, 1616: 0, 1618: 0, 1619: 0, 1620: 0, 1621: 0, 1622: 0, 1623: 0, 1624: 0, 1625: 0, 1626: 0, 1627: 0, 1628: 0, 1629: 0, 1630: 0, 1631: 0, 1632: 0, 1633: 0, 1634: 0, 1635: 0, 1637: 0, 1638: 0, 1639: 0, 1640: 0, 1641: 0, 1642: 0, 1643: 0, 1644: 0, 1645: 0, 1646: 0, 1647: 0, 1648: 0, 1649: 0, 1650: 0, 1651: 0, 1652: 0, 1653: 0, 1654: 0, 1655: 0, 1656: 0, 1657: 0, 1658: 0, 1659: 0, 1660: 0, 1661: 0, 1662: 0, 1663: 0, 1664: 0, 1665: 0, 1667: 0, 1668: 0, 1670: 0, 1671: 0, 1672: 0, 1673: 0, 1674: 0, 1675: 0, 1676: 0, 1677: 0, 1678: 0, 1679: 0, 1680: 0, 1681: 0, 1682: 0, 1683: 0, 1685: 0, 1686: 0, 1687: 0, 1688: 0, 1690: 0, 1691: 0, 1692: 0, 1693: 0, 1694: 0, 1695: 0, 1697: 0, 1698: 0, 1699: 0, 1700: 0, 1701: 0, 1702: 0, 1703: 0, 1704: 0, 1705: 0, 1706: 0, 1707: 0, 1708: 0, 1709: 0, 1711: 0, 1712: 0, 1713: 0, 1714: 0, 1717: 0, 1719: 0, 1720: 0, 1721: 0, 1722: 0, 1723: 0, 1724: 0, 1725: 0, 1726: 0, 1727: 0, 1728: 0, 1729: 0, 1730: 0, 1731: 0, 1732: 0, 1733: 0, 1734: 0, 1735: 0, 1737: 0, 1738: 0, 1739: 0, 1740: 0, 1741: 0, 1742: 0, 1743: 0, 1744: 0, 1745: 0, 1746: 0, 1747: 0, 1748: 0, 1749: 0, 1750: 0, 1751: 0, 1752: 0, 1753: 0, 1754: 0, 1755: 0, 1756: 0, 1757: 0, 1758: 0, 1759: 0, 1760: 0, 1761: 0, 1762: 0, 1764: 0, 1765: 0, 1766: 0, 1767: 0, 1768: 0, 1769: 0, 1770: 0, 1771: 0, 1772: 0, 1773: 0, 1774: 0, 1775: 0, 1776: 0, 1777: 0, 1778: 0, 1779: 0, 1780: 0, 1781: 0, 1782: 0, 1783: 0, 1784: 0, 1785: 0, 1786: 0, 1787: 0, 1788: 0, 1789: 0, 1790: 0, 1791: 0, 1792: 0, 1793: 0, 1794: 0, 1795: 0, 1796: 0, 1797: 0, 1798: 0, 1799: 0, 1800: 0, 1801: 0, 1802: 0, 1803: 0, 1804: 0, 1805: 0, 1806: 0, 1807: 0, 1808: 0, 1809: 0, 1811: 0, 1812: 0, 1814: 0, 1815: 0, 1816: 0, 1817: 0, 1818: 0, 1819: 0, 1820: 0, 1822: 0, 1824: 0, 1825: 0, 1826: 0, 1827: 0, 1829: 0, 1830: 0, 1831: 0, 1832: 0, 1833: 0, 1834: 0, 1835: 0, 1836: 0, 1837: 0, 1838: 0, 1839: 0, 1840: 0, 1841: 0, 1842: 0, 1843: 0, 1844: 0, 1845: 0, 1847: 0, 1848: 0, 1849: 0, 1850: 0, 1851: 0, 1852: 0, 1853: 0, 1854: 0, 1855: 0, 1856: 0, 1857: 0, 1858: 0, 1859: 0, 1860: 0, 1861: 0, 1862: 0, 1863: 0, 1864: 0, 1865: 0, 1866: 0, 1867: 0, 1868: 0, 1869: 0, 1871: 0, 1872: 0, 1873: 0, 1874: 0, 1875: 0, 1876: 0, 1877: 0, 1878: 0, 1879: 0, 1880: 0, 1881: 0, 1882: 0, 1883: 0, 1884: 0, 1885: 0, 1886: 0, 1887: 0, 1888: 0, 1889: 0, 1890: 0, 1891: 0, 1892: 0, 1894: 0, 1895: 0, 1896: 0, 1897: 0, 1898: 0, 1899: 0, 1900: 0, 1901: 0, 1902: 0, 1903: 0, 1904: 0, 1905: 0, 1907: 0, 1908: 0, 1909: 0, 1910: 0, 1911: 0, 1912: 0, 1913: 0, 1914: 0, 1915: 0, 1916: 0, 1917: 0, 1918: 0, 1919: 0, 1920: 0, 1921: 0, 1922: 0, 1923: 0, 1924: 0, 1925: 0, 1926: 0, 1927: 0, 1928: 0, 1929: 0, 1930: 0, 1931: 0, 1932: 0, 1933: 0, 1934: 0, 1935: 0, 1936: 0, 1937: 0, 1938: 0, 1939: 0, 1940: 0, 1941: 0, 1942: 0, 1943: 0, 1944: 0, 1945: 0, 1946: 0, 1947: 0, 1948: 0, 1949: 0, 1950: 0, 1951: 0, 1952: 0, 1953: 0, 1954: 0, 1955: 0, 1956: 0, 1957: 0, 1958: 0, 1959: 0, 1960: 0, 1962: 0, 1963: 0, 1964: 0, 1965: 0, 1966: 0, 1967: 0, 1969: 0, 1970: 0, 1971: 0, 1972: 0, 1973: 0, 1974: 0, 1975: 0, 1976: 0, 1977: 0, 1979: 0, 1980: 0, 1981: 0, 1982: 0, 1983: 0, 1984: 0, 1985: 0, 1986: 0, 1988: 0, 1989: 0, 1990: 0, 1991: 0, 1992: 0, 1993: 0, 1994: 0, 1995: 0, 1996: 0, 1997: 0, 1998: 0, 2000: 0, 2001: 0, 2002: 0, 2003: 0, 2004: 0, 2005: 0, 2006: 0, 2007: 0, 2008: 0, 2009: 0, 2010: 0, 2011: 0, 2012: 0, 2013: 0, 2014: 0, 2015: 0, 2016: 0, 2017: 0, 2018: 0, 2019: 0, 2020: 0, 2021: 0, 2022: 0, 2023: 0, 2024: 0, 2025: 0, 2026: 0, 2027: 0, 2028: 0, 2029: 0, 2030: 0, 2031: 0, 2032: 0, 2033: 0, 2034: 0, 2035: 0, 2038: 0, 2039: 0, 2040: 0, 2041: 0, 2043: 0, 2044: 0, 2045: 0, 2046: 0, 2047: 0, 2048: 0, 2049: 0, 2050: 0, 2051: 0, 2052: 0, 2053: 0, 2054: 0, 2056: 0, 2057: 0, 2058: 0, 2059: 0, 2060: 0, 2061: 0, 2062: 0, 2063: 0, 2064: 0, 2065: 0, 2066: 0, 2067: 0, 2068: 0, 2069: 0, 2070: 0, 2071: 0, 2072: 0, 2073: 0, 2074: 0, 2075: 0, 2076: 0, 2077: 0, 2078: 0, 2079: 0, 2080: 0, 2081: 0, 2082: 0, 2083: 0, 2084: 0, 2085: 0, 2086: 0, 2087: 0, 2088: 0, 2089: 0, 2090: 0, 2091: 0, 2092: 0, 2093: 0, 2094: 0, 2095: 0, 2096: 0, 2097: 0, 2098: 0, 2099: 0, 2100: 0, 2101: 0, 2102: 0, 2103: 0, 2105: 0, 2106: 0, 2107: 0, 2108: 0, 2109: 0, 2110: 0, 2111: 0, 2112: 0, 2113: 0, 2114: 0, 2115: 0, 2116: 0, 2117: 0, 2118: 0, 2119: 0, 2121: 0, 2122: 0, 2123: 0, 2124: 0, 2125: 0, 2128: 0, 2129: 0, 2130: 0, 2131: 0, 2132: 0, 2133: 0, 2134: 0, 2135: 0, 2136: 0, 2137: 0, 2138: 0, 2139: 0, 2140: 0, 2141: 0, 2142: 0, 2143: 0, 2145: 0, 2146: 0, 2147: 0, 2148: 0, 2149: 0, 2150: 0, 2151: 0, 2152: 0, 2153: 0, 2154: 0, 2155: 0, 2157: 0, 2158: 0, 2160: 0, 2161: 0, 2162: 0, 2163: 0, 2164: 0, 2165: 0, 2166: 0, 2167: 0, 2168: 0, 2169: 0, 2170: 0, 2171: 0, 2172: 0, 2173: 0, 2174: 0, 2175: 0, 2176: 0, 2177: 0, 2178: 0, 2179: 0, 2180: 0, 2182: 0, 2183: 0, 2184: 0, 2185: 0, 2186: 0, 2187: 0, 2188: 0, 2189: 0, 2190: 0, 2191: 0, 2192: 0, 2193: 0, 2194: 0, 2195: 0, 2196: 0, 2197: 0, 2198: 0, 2199: 0, 2200: 0, 2201: 0, 2202: 0, 2203: 0, 2204: 0, 2206: 0, 2207: 0, 2208: 0, 2209: 0, 2210: 0, 2211: 0, 2212: 0, 2213: 0, 2214: 0, 2215: 0, 2216: 0, 2217: 0, 2218: 0, 2219: 0, 2220: 0, 2221: 0, 2222: 0, 2223: 0, 2224: 0, 2225: 0, 2226: 0, 2227: 0, 2228: 0, 2229: 0, 2230: 0, 2231: 0, 2232: 0, 2233: 0, 2234: 0, 2235: 0, 2236: 0, 2237: 0, 2238: 0, 2239: 0, 2240: 0, 2241: 0, 2242: 0, 2243: 0, 2244: 0, 2245: 0, 2246: 0, 2247: 0, 2248: 0, 2249: 0, 2250: 0, 2251: 0, 2252: 0, 2253: 0, 2254: 0, 2255: 0, 2256: 0, 2257: 0, 2258: 0, 2259: 0, 2260: 0, 2261: 0, 2262: 0, 2263: 0, 2264: 0, 2265: 0, 2266: 0, 2267: 0, 2268: 0, 2269: 0, 2270: 0, 2271: 0, 2272: 0, 2273: 0, 2275: 0, 2276: 0, 2277: 0, 2278: 0, 2279: 0, 2280: 0, 2281: 0, 2282: 0, 2283: 0, 2284: 0, 2285: 0, 2286: 0, 2287: 0, 2288: 0, 2289: 0, 2290: 0, 2291: 0, 2292: 0, 2293: 0, 2295: 0, 2296: 0, 2297: 0, 2298: 0, 2299: 0, 2300: 0, 2301: 0, 2302: 0, 2303: 0, 2304: 0, 2305: 0, 2306: 0, 2307: 0, 2308: 0, 2309: 0, 2310: 0, 2311: 0, 2313: 0, 2314: 0, 2315: 0, 2316: 0, 2318: 0, 2319: 0, 2320: 0, 2321: 0, 2322: 0, 2323: 0, 2325: 0, 2326: 0, 2327: 0, 2328: 0, 2329: 0, 2330: 0, 2332: 0, 2333: 0, 2334: 0, 2335: 0, 2336: 0, 2337: 0, 2338: 0, 2339: 0, 2340: 0, 2341: 0, 2342: 0, 2343: 0, 2344: 0, 2345: 0, 2346: 0, 2347: 0, 2348: 0, 2350: 0, 2351: 0, 2352: 0, 2353: 0, 2354: 0, 2355: 0, 2356: 0, 2357: 0, 2358: 0, 2359: 0, 2360: 0, 2361: 0, 2362: 0, 2363: 0, 2364: 0, 2366: 0, 2367: 0, 2368: 0, 2369: 0, 2370: 0, 2371: 0, 2372: 0, 2373: 0, 2374: 0, 2375: 0, 2376: 0, 2377: 0, 2378: 0, 2379: 0, 2380: 0, 2381: 0, 2382: 0, 2383: 0, 2384: 0, 2385: 0, 2386: 0, 2387: 0, 2388: 0, 2389: 0, 2390: 0, 2391: 0, 2392: 0, 2393: 0, 2394: 0, 2395: 0, 2396: 0, 2397: 0, 2398: 0, 2400: 0, 2401: 0, 2402: 0, 2404: 0, 2405: 0, 2406: 0, 2408: 0, 2409: 0, 2410: 0, 2411: 0, 2412: 0, 2413: 0, 2414: 0, 2416: 0, 2417: 0, 2418: 0, 2419: 0, 2420: 0, 2421: 0, 2422: 0, 2423: 0, 2424: 0, 2425: 0, 2426: 0, 2427: 0, 2428: 0, 2429: 0, 2430: 0, 2431: 0, 2432: 0, 2433: 0, 2434: 0, 2435: 0, 2436: 0, 2437: 0, 2438: 0, 2439: 0, 2440: 0, 2441: 0, 2442: 0, 2443: 0, 2444: 0, 2445: 0, 2446: 0, 2447: 0, 2448: 0, 2449: 0, 2450: 0, 2451: 0, 2452: 0, 2454: 0, 2455: 0, 2456: 0, 2457: 0, 2458: 0, 2459: 0, 2460: 0, 2462: 0, 2463: 0, 2464: 0, 2465: 0, 2466: 0, 2467: 0, 2468: 0, 2469: 0, 2470: 0, 2471: 0, 2472: 0, 2473: 0, 2474: 0, 2475: 0, 2476: 0, 2477: 0, 2478: 0, 2479: 0, 2480: 0, 2481: 0, 2482: 0, 2483: 0, 2485: 0, 2486: 0, 2487: 0, 2488: 0, 2489: 0, 2490: 0, 2491: 0, 2493: 0, 2494: 0, 2495: 0, 2496: 0, 2497: 0, 2498: 0, 2499: 0, 2500: 0, 2501: 0, 2502: 0, 2503: 0, 2504: 0, 2505: 0, 2507: 0, 2508: 0, 2509: 0, 2510: 0, 2511: 0, 2512: 0, 2513: 0, 2514: 0, 2515: 0, 2516: 0, 2517: 0, 2518: 0, 2519: 0, 2520: 0, 2521: 0, 2522: 0, 2523: 0, 2524: 0, 2525: 0, 2526: 0, 2527: 0, 2528: 0, 2529: 0, 2530: 0, 2531: 0, 2532: 0, 2533: 0, 2534: 0, 2535: 0, 2536: 0, 2537: 0, 2538: 0, 2539: 0, 2540: 0, 2541: 0, 2542: 0, 2543: 0, 2544: 0, 2545: 0, 2546: 0, 2547: 0, 2548: 0, 2549: 0, 2550: 0, 2551: 0, 2552: 0, 2553: 0, 2554: 0, 2555: 0, 2556: 0, 2557: 0, 2558: 0, 2559: 0, 2560: 0, 2561: 0, 2562: 0, 2563: 0, 2564: 0, 2565: 0, 2566: 0, 2567: 0, 2568: 0, 2569: 0, 2570: 0, 2571: 0, 2572: 0, 2573: 0, 2574: 0, 2575: 0, 2576: 0, 2577: 0, 2578: 0, 2579: 0, 2580: 0, 2581: 0, 2582: 0, 2583: 0, 2584: 0, 2585: 0, 2586: 0, 2587: 0, 2588: 0, 2589: 0, 2590: 0, 2591: 0, 2592: 0, 2593: 0, 2594: 0, 2595: 0, 2596: 0, 2597: 0, 2598: 0, 2599: 0, 2600: 0, 2601: 0, 2603: 0, 2604: 0, 2605: 0, 2606: 0, 2607: 0, 2608: 0, 2609: 0, 2610: 0, 2611: 0, 2612: 0, 2613: 0, 2614: 0, 2615: 0, 2616: 0, 2617: 0, 2618: 0, 2619: 0, 2620: 0, 2621: 0, 2622: 0, 2624: 0, 2625: 0, 2626: 0, 2627: 0, 2628: 0, 2629: 0, 2630: 0, 2631: 0, 2632: 0, 2633: 0, 2634: 0, 2635: 0, 2636: 0, 2637: 0, 2638: 0, 2639: 0, 2640: 0, 2642: 0, 2643: 0, 2644: 0, 2645: 0, 2646: 0, 2647: 0, 2648: 0, 2649: 0, 2650: 0, 2651: 0, 2652: 0, 2653: 0, 2654: 0, 2655: 0, 2656: 0, 2657: 0, 2658: 0, 2659: 0, 2660: 0, 2661: 0, 2662: 0, 2663: 0, 2664: 0, 2665: 0, 2666: 0, 2667: 0, 2668: 0, 2669: 0, 2670: 0, 2671: 0, 2672: 0, 2673: 0, 2674: 0, 2675: 0, 2676: 0, 2677: 0, 2678: 0, 2679: 0, 2680: 0, 2681: 0, 2682: 0, 2683: 0, 2685: 0, 2686: 0, 2687: 0, 2688: 0, 2689: 0, 2690: 0, 2691: 0, 2692: 0, 2693: 0, 2694: 0, 2695: 0, 2696: 0, 2697: 0, 2698: 0, 2699: 0, 2700: 0, 2701: 0, 2702: 0, 2703: 0, 2704: 0, 2705: 0, 2706: 0, 2707: 0, 2708: 0, 2709: 0, 2710: 0, 2711: 0, 2712: 0, 2713: 0, 2714: 0, 2716: 0, 2717: 0, 2718: 0, 2719: 0, 2720: 0, 2721: 0, 2722: 0, 2723: 0, 2724: 0, 2725: 0, 2726: 0, 2727: 0, 2728: 0, 2729: 0, 2730: 0, 2731: 0, 2732: 0, 2733: 0, 2734: 0, 2735: 0, 2736: 0, 2737: 0, 2738: 0, 2739: 0, 2740: 0, 2741: 0, 2742: 0, 2743: 0, 2744: 0, 2745: 0, 2746: 0, 2747: 0, 2748: 0, 2749: 0, 2750: 0, 2752: 0, 2753: 0, 2754: 0, 2755: 0, 2756: 0, 2757: 0, 2758: 0, 2759: 0, 2760: 0, 2761: 0, 2762: 0, 2763: 0, 2764: 0, 2765: 0, 2766: 0, 2767: 0, 2768: 0, 2769: 0, 2770: 0, 2771: 0, 2772: 0, 2774: 0, 2775: 0, 2776: 0, 2777: 0, 2778: 0, 2779: 0, 2780: 0, 2781: 0, 2782: 0, 2783: 0, 2784: 0, 2785: 0, 2786: 0, 2787: 0, 2788: 0, 2789: 0, 2790: 0, 2791: 0, 2792: 0, 2793: 0, 2794: 0, 2795: 0, 2797: 0, 2798: 0, 2799: 0, 2800: 0, 2801: 0, 2802: 0, 2803: 0, 2804: 0, 2805: 0, 2806: 0, 2807: 0, 2808: 0, 2809: 0, 2810: 0, 2811: 0, 2813: 0, 2814: 0, 2815: 0, 2816: 0, 2817: 0, 2818: 0, 2819: 0, 2820: 0, 2821: 0, 2822: 0, 2823: 0, 2824: 0, 2825: 0, 2826: 0, 2827: 0, 2828: 0, 2829: 0, 2830: 0, 2831: 0, 2832: 0, 2833: 0, 2834: 0, 2835: 0, 2836: 0, 2837: 0, 2838: 0, 2839: 0, 2840: 0, 2844: 0, 2845: 0, 2848: 0, 2850: 0, 2851: 0, 2852: 0, 2855: 0, 2856: 0, 2857: 0, 2858: 0, 2859: 0, 2860: 0, 2861: 0, 2862: 0, 2863: 0, 2864: 0, 2865: 0, 2866: 0, 2867: 0, 2868: 0, 2869: 0, 2870: 0, 2871: 0, 2872: 0, 2873: 0, 2874: 0, 2875: 0, 2876: 0, 2877: 0, 2878: 0, 2879: 0, 2880: 0, 2881: 0, 2882: 0, 2883: 0, 2884: 0, 2885: 0, 2886: 0, 2887: 0, 2888: 0, 2889: 0, 2890: 0, 2892: 0, 2894: 0, 2895: 0, 2896: 0, 2897: 0, 2898: 0, 2899: 0, 2900: 0, 2902: 0, 2903: 0, 2904: 0, 2905: 0, 2906: 0, 2907: 0, 2908: 0, 2909: 0, 2910: 0, 2911: 0, 2913: 0, 2914: 0, 2915: 0, 2916: 0, 2917: 0, 2918: 0, 2919: 0, 2920: 0, 2921: 0, 2922: 0, 2923: 0, 2925: 0, 2926: 0, 2927: 0, 2928: 0, 2929: 0, 2930: 0, 2932: 0, 2933: 0, 2934: 0, 2936: 0, 2937: 0, 2938: 0, 2939: 0, 2940: 0, 2941: 0, 2942: 0, 2943: 0, 2944: 0, 2945: 0, 2946: 0, 2947: 0, 2948: 0, 2949: 0, 2951: 0, 2952: 0, 2953: 0, 2954: 0, 2956: 0, 2957: 0, 2958: 0, 2959: 0, 2960: 0, 2961: 0, 2962: 0, 2963: 0, 2964: 0, 2965: 0, 2966: 0, 2967: 0, 2968: 0, 2969: 0, 2970: 0, 2971: 0, 2972: 0, 2973: 0, 2977: 0, 2978: 0, 2979: 0, 2980: 0, 2983: 0, 2984: 0, 2985: 0, 2986: 0, 2987: 0, 2988: 0, 2990: 0, 2991: 0, 2992: 0, 2994: 0, 2995: 0, 2996: 0, 2997: 0, 2998: 0, 2999: 0, 3000: 0, 3002: 0, 3003: 0, 3004: 0, 3008: 0, 3009: 0, 3010: 0, 3011: 0, 3012: 0, 3013: 0, 3014: 0, 3015: 0, 3016: 0, 3017: 0, 3018: 0, 3019: 0, 3020: 0, 3021: 0, 3022: 0, 3023: 0, 3024: 0, 3025: 0, 3026: 0, 3027: 0, 3028: 0, 3029: 0, 3030: 0, 3031: 0, 3032: 0, 3033: 0, 3035: 0, 3036: 0, 3037: 0, 3038: 0, 3039: 0, 3040: 0, 3041: 0, 3042: 0, 3044: 0, 3045: 0, 3046: 0, 3047: 0, 3048: 0, 3049: 0, 3050: 0, 3051: 0, 3052: 0, 3053: 0, 3055: 0, 3056: 0, 3057: 0, 3059: 0, 3060: 0, 3062: 0, 3063: 0, 3064: 0, 3065: 0, 3066: 0, 3067: 0, 3068: 0, 3069: 0, 3070: 0, 3071: 0, 3073: 0, 3074: 0, 3075: 0, 3076: 0, 3077: 0, 3078: 0, 3079: 0, 3080: 0, 3081: 0, 3082: 0, 3083: 0, 3084: 0, 3085: 0, 3086: 0, 3087: 0, 3088: 0, 3089: 0, 3091: 0, 3092: 0, 3093: 0, 3094: 0, 3095: 0, 3096: 0, 3097: 0, 3098: 0, 3100: 0, 3101: 0, 3102: 0, 3103: 0, 3104: 0, 3105: 0, 3106: 0, 3107: 0, 3108: 0, 3110: 0, 3112: 0, 3113: 0, 3114: 0, 3115: 0, 3116: 0, 3117: 0, 3119: 0, 3120: 0, 3121: 0, 3122: 0, 3123: 0, 3125: 0, 3126: 0, 3127: 0, 3128: 0, 3129: 0, 3130: 0, 3131: 0, 3133: 0, 3134: 0, 3135: 0, 3137: 0, 3138: 0, 3139: 0, 3140: 0, 3141: 0, 3142: 0, 3143: 0, 3144: 0, 3145: 0, 3146: 0, 3148: 0, 3149: 0, 3150: 0, 3151: 0, 3152: 0, 3153: 0, 3154: 0, 3155: 0, 3156: 0, 3157: 0, 3158: 0, 3159: 0, 3160: 0, 3161: 0, 3162: 0, 3164: 0, 3165: 0, 3166: 0, 3167: 0, 3168: 0, 3170: 0, 3171: 0, 3173: 0, 3174: 0, 3175: 0, 3176: 0, 3177: 0, 3178: 0, 3179: 0, 3180: 0, 3181: 0, 3182: 0, 3183: 0, 3184: 0, 3185: 0, 3186: 0, 3187: 0, 3188: 0, 3189: 0, 3191: 0, 3192: 0, 3193: 0, 3195: 0, 3196: 0, 3197: 0, 3198: 0, 3199: 0, 3201: 0, 3202: 0, 3203: 0, 3204: 0, 3205: 0, 3206: 0, 3207: 0, 3209: 0, 3210: 0, 3211: 0, 3212: 0, 3213: 0, 3214: 0, 3215: 0, 3216: 0, 3218: 0, 3219: 0, 3220: 0, 3221: 0, 3222: 0, 3223: 0, 3224: 0, 3226: 0, 3227: 0, 3228: 0, 3229: 0, 3230: 0, 3231: 0, 3232: 0, 3233: 0, 3234: 0, 3236: 0, 3237: 0, 3238: 0, 3239: 0, 3240: 0, 3241: 0, 3242: 0, 3243: 0, 3245: 0, 3246: 0, 3247: 0, 3248: 0, 3249: 0, 3250: 0, 3251: 0, 3252: 0, 3255: 0, 3256: 0, 3257: 0, 3258: 0, 3259: 0, 3260: 0, 3261: 0, 3262: 0, 3263: 0, 3265: 0, 3266: 0, 3267: 0, 3268: 0, 3270: 0, 3271: 0, 3272: 0, 3273: 0, 3274: 0, 3275: 0, 3276: 0, 3277: 0, 3278: 0, 3279: 0, 3280: 0, 3281: 0, 3282: 0, 3283: 0, 3285: 0, 3286: 0, 3287: 0, 3288: 0, 3289: 0, 3290: 0, 3291: 0, 3293: 0, 3294: 0, 3295: 0, 3296: 0, 3297: 0, 3298: 0, 3299: 0, 3300: 0, 3301: 0, 3302: 0, 3303: 0, 3304: 0, 3305: 0, 3306: 0, 3307: 0, 3308: 0, 3309: 0, 3311: 0, 3312: 0, 3314: 0, 3315: 0, 3316: 0, 3317: 0, 3321: 0, 3322: 0, 3324: 0, 3325: 0, 3326: 0, 3327: 0, 3328: 0, 3329: 0, 3330: 0, 3331: 0, 3332: 0, 3333: 0, 3334: 0, 3335: 0, 3336: 0, 3337: 0, 3339: 0, 3340: 0, 3341: 0, 3342: 0, 3343: 0, 3344: 0, 3345: 0, 3347: 0, 3348: 0, 3349: 0, 3350: 0, 3351: 0, 3352: 0, 3353: 0, 3354: 0, 3355: 0, 3356: 0, 3357: 0, 3358: 0, 3359: 0, 3360: 0, 3361: 0, 3362: 0, 3363: 0, 3364: 0, 3365: 0, 3366: 0, 3367: 0, 3368: 0, 3371: 0, 3372: 0, 3373: 0, 3374: 0, 3375: 0, 3376: 0, 3379: 0, 3380: 0, 3381: 0, 3382: 0, 3383: 0, 3384: 0, 3385: 0, 3386: 0, 3387: 0, 3388: 0, 3389: 0, 3390: 0, 3391: 0, 3392: 0, 3393: 0, 3394: 0, 3398: 0, 3399: 0, 3400: 0, 3401: 0, 3404: 0, 3405: 0, 3406: 0, 3407: 0, 3408: 0, 3409: 0, 3410: 0, 3411: 0, 3412: 0, 3413: 0, 3414: 0, 3415: 0, 3418: 0, 3419: 0, 3420: 0, 3422: 0, 3423: 0, 3424: 0, 3425: 0, 3426: 0, 3427: 0, 3428: 0, 3431: 0, 3432: 0, 3435: 0, 3436: 0, 3437: 0, 3438: 0, 3439: 0, 3440: 0, 3442: 0, 3443: 0, 3444: 0, 3445: 0, 3447: 0, 3448: 0, 3449: 0, 3450: 0, 3451: 0, 3452: 0, 3453: 0, 3454: 0, 3455: 0, 3456: 0, 3457: 0, 3458: 0, 3459: 0, 3460: 0, 3461: 0, 3462: 0, 3463: 0, 3464: 0, 3465: 0, 3468: 0, 3470: 0, 3471: 0, 3472: 0, 3473: 0, 3475: 0, 3477: 0, 3479: 0, 3480: 0, 3481: 0, 3482: 0, 3484: 0, 3485: 0, 3486: 0, 3487: 0, 3488: 0, 3489: 0, 3490: 0, 3491: 0, 3492: 0, 3493: 0, 3494: 0, 3495: 0, 3496: 0, 3497: 0, 3498: 0, 3499: 0, 3500: 0, 3501: 0, 3502: 0, 3503: 0, 3504: 0, 3505: 0, 3506: 0, 3507: 0, 3508: 0, 3509: 0, 3510: 0, 3511: 0, 3512: 0, 3513: 0, 3515: 0, 3516: 0, 3517: 0, 3518: 0, 3519: 0, 3520: 0, 3521: 0, 3522: 0, 3523: 0, 3525: 0, 3526: 0, 3528: 0, 3529: 0, 3530: 0, 3531: 0, 3532: 0, 3533: 0, 3534: 0, 3535: 0, 3536: 0, 3537: 0, 3538: 0, 3539: 0, 3541: 0, 3542: 0, 3543: 0, 3544: 0, 3545: 0, 3546: 0, 3547: 0, 3549: 0, 3550: 0, 3551: 0, 3552: 0, 3554: 0, 3555: 0, 3556: 0, 3557: 0, 3560: 0, 3561: 0, 3562: 0, 3563: 0, 3564: 0, 3565: 0, 3566: 0, 3567: 0, 3568: 0, 3569: 0, 3571: 0, 3572: 0, 3573: 0, 3574: 0, 3575: 0, 3576: 0, 3577: 0, 3578: 0, 3579: 0, 3581: 0, 3582: 0, 3583: 0, 3584: 0, 3585: 0, 3586: 0, 3587: 0, 3588: 0, 3589: 0, 3590: 0, 3591: 0, 3592: 0, 3593: 0, 3594: 0, 3595: 0, 3597: 0, 3598: 0, 3599: 0, 3600: 0, 3602: 0, 3603: 0, 3604: 0, 3606: 0, 3607: 0, 3608: 0, 3609: 0, 3610: 0, 3612: 0, 3613: 0, 3614: 0, 3615: 0, 3616: 0, 3617: 0, 3618: 0, 3619: 0, 3620: 0, 3623: 0, 3624: 0, 3625: 0, 3626: 0, 3627: 0, 3629: 0, 3630: 0, 3631: 0, 3632: 0, 3633: 0, 3635: 0, 3636: 0, 3639: 0, 3640: 0, 3641: 0, 3642: 0, 3643: 0, 3644: 0, 3645: 0, 3646: 0, 3647: 0, 3648: 0, 3649: 0, 3650: 0, 3652: 0, 3653: 0, 3655: 0, 3656: 0, 3657: 0, 3658: 0, 3659: 0, 3660: 0, 3661: 0, 3662: 0, 3663: 0, 3664: 0, 3665: 0, 3666: 0, 3667: 0, 3668: 0, 3669: 0, 3670: 0, 3671: 0, 3673: 0, 3675: 0, 3676: 0, 3677: 0, 3678: 0, 3679: 0, 3680: 0, 3681: 0, 3682: 0, 3683: 0, 3685: 0, 3686: 0, 3687: 0, 3688: 0, 3689: 0, 3690: 0, 3691: 0, 3692: 0, 3693: 0, 3694: 0, 3695: 0, 3696: 0, 3698: 0, 3699: 0, 3700: 0, 3701: 0, 3702: 0, 3704: 0, 3706: 0, 3707: 0, 3708: 0, 3709: 0, 3710: 0, 3711: 0, 3712: 0, 3714: 0, 3715: 0, 3716: 0, 3717: 0, 3718: 0, 3719: 0, 3720: 0, 3721: 0, 3722: 0, 3723: 0, 3725: 0, 3726: 0, 3727: 0, 3728: 0, 3729: 0, 3730: 0, 3731: 0, 3732: 0, 3733: 0, 3734: 0, 3735: 0, 3736: 0, 3737: 0, 3739: 0, 3740: 0, 3742: 0, 3743: 0, 3744: 0, 3745: 0, 3746: 0, 3747: 0, 3748: 0, 3749: 0, 3750: 0, 3751: 0, 3752: 0, 3753: 0, 3755: 0, 3756: 0, 3757: 0, 3758: 0, 3759: 0, 3760: 0, 3761: 0, 3762: 0, 3766: 0, 3767: 0, 3769: 0, 3770: 0, 3771: 0, 3772: 0, 3773: 0, 3774: 0, 3776: 0, 3777: 0, 3778: 0, 3779: 0, 3780: 0, 3781: 0, 3784: 0, 3785: 0, 3786: 0, 3787: 0, 3788: 0, 3789: 0, 3790: 0, 3791: 0, 3792: 0, 3793: 0, 3795: 0, 3796: 0, 3797: 0, 3798: 0, 3799: 0, 3800: 0, 3802: 0, 3803: 0, 3804: 0, 3806: 0, 3807: 0, 3808: 0, 3809: 0, 3810: 0, 3811: 0, 3813: 0, 3814: 0, 3815: 0, 3816: 0, 3817: 0, 3819: 0, 3820: 0, 3821: 0, 3822: 0, 3823: 0, 3824: 0, 3825: 0, 3826: 0, 3827: 0, 3828: 0, 3832: 0, 3833: 0, 3834: 0, 3835: 0, 3836: 0, 3837: 0, 3838: 0, 3839: 0, 3840: 0, 3841: 0, 3842: 0, 3843: 0, 3844: 0, 3845: 0, 3846: 0, 3847: 0, 3848: 0, 3849: 0, 3850: 0, 3851: 0, 3852: 0, 3853: 0, 3854: 0, 3855: 0, 3857: 0, 3858: 0, 3859: 0, 3860: 0, 3861: 0, 3862: 0, 3863: 0, 3865: 0, 3866: 0, 3867: 0, 3868: 0, 3869: 0, 3871: 0, 3872: 0, 3873: 0, 3874: 0, 3875: 0, 3876: 0, 3877: 0, 3878: 0, 3879: 0, 3880: 0, 3881: 0, 3882: 0, 3883: 0, 3884: 0, 3885: 0, 3886: 0, 3887: 0, 3888: 0, 3889: 0, 3890: 0, 3891: 0, 3892: 0, 3893: 0, 3894: 0, 3895: 0, 3896: 0, 3898: 0, 3899: 0, 3900: 0, 3901: 0, 3902: 0, 3903: 0, 3904: 0, 3905: 0, 3906: 0, 3908: 0, 3909: 0, 3911: 0, 3912: 0, 3913: 0, 3914: 0, 3915: 0, 3916: 0, 3917: 0, 3918: 0, 3919: 0, 3920: 0, 3921: 0, 3922: 0, 3923: 0, 3924: 0, 3925: 0, 3926: 0, 3927: 0, 3928: 0, 3929: 0, 3930: 0, 3931: 0, 3932: 0, 3933: 0, 3934: 0, 3936: 0, 3937: 0, 3939: 0, 3940: 0, 3941: 0, 3942: 0, 3943: 0, 3944: 0, 3945: 0, 3946: 0, 3947: 0, 3948: 0, 3949: 0, 3950: 0, 3952: 0, 3953: 0, 3954: 0, 3955: 0, 3956: 0, 3957: 0, 3958: 0, 3959: 0, 3961: 0, 3962: 0, 3963: 0, 3964: 0, 3965: 0, 3966: 0, 3968: 0, 3969: 0, 3971: 0, 3972: 0, 3973: 0, 3974: 0, 3975: 0, 3976: 0, 3977: 0, 3978: 0, 3979: 0, 3980: 0, 3981: 0, 3983: 0, 3984: 0, 3985: 0, 3986: 0, 3987: 0, 3988: 0, 3989: 0, 3990: 0, 3991: 0, 3992: 0, 3993: 0, 3994: 0, 3995: 0, 3996: 0, 3997: 0, 3998: 0, 4000: 0, 4001: 0, 4002: 0, 4004: 0, 4005: 0, 4006: 0, 4007: 0, 4008: 0, 4009: 0, 4010: 0, 4011: 0, 4012: 0, 4013: 0, 4014: 0, 4016: 0, 4017: 0, 4018: 0, 4019: 0, 4020: 0, 4022: 0, 4023: 0, 4024: 0, 4025: 0, 4026: 0, 4027: 0, 4028: 0, 4029: 0, 4030: 0, 4031: 0, 4032: 0, 4033: 0, 4034: 0, 4035: 0, 4036: 0, 4037: 0, 4038: 0, 4039: 0, 4040: 0, 4041: 0, 4042: 0, 4043: 0, 4044: 0, 4045: 0, 4046: 0, 4047: 0, 4048: 0, 4049: 0, 4050: 0, 4051: 0, 4052: 0, 4053: 0, 4054: 0, 4056: 0, 4057: 0, 4058: 0, 4059: 0, 4060: 0, 4062: 0, 4063: 0, 4064: 0, 4065: 0, 4066: 0, 4068: 0, 4069: 0, 4070: 0, 4072: 0, 4074: 0, 4075: 0, 4077: 0, 4078: 0, 4079: 0, 4081: 0, 4082: 0, 4083: 0, 4084: 0, 4085: 0, 4086: 0, 4087: 0, 4088: 0, 4089: 0, 4090: 0, 4091: 0, 4092: 0, 4093: 0, 4094: 0, 4095: 0, 4098: 0, 4100: 0, 4101: 0, 4103: 0, 4104: 0, 4105: 0, 4106: 0, 4108: 0, 4109: 0, 4110: 0, 4111: 0, 4112: 0, 4113: 0, 4114: 0, 4115: 0, 4116: 0, 4117: 0, 4118: 0, 4119: 0, 4120: 0, 4121: 0, 4122: 0, 4123: 0, 4124: 0, 4125: 0, 4126: 0, 4127: 0, 4129: 0, 4130: 0, 4131: 0, 4132: 0, 4133: 0, 4134: 0, 4135: 0, 4136: 0, 4138: 0, 4140: 0, 4141: 0, 4142: 0, 4143: 0, 4144: 0, 4146: 0, 4147: 0, 4148: 0, 4149: 0, 4150: 0, 4151: 0, 4152: 0, 4153: 0, 4154: 0, 4155: 0, 4156: 0, 4157: 0, 4158: 0, 4159: 0, 4160: 0, 4161: 0, 4162: 0, 4163: 0, 4164: 0, 4165: 0, 4166: 0, 4167: 0, 4168: 0, 4169: 0, 4170: 0, 4171: 0, 4172: 0, 4174: 0, 4175: 0, 4176: 0, 4177: 0, 4178: 0, 4179: 0, 4181: 0, 4182: 0, 4183: 0, 4184: 0, 4185: 0, 4186: 0, 4187: 0, 4188: 0, 4189: 0, 4190: 0, 4191: 0, 4192: 0, 4193: 0, 4194: 0, 4195: 0, 4196: 0, 4198: 0, 4199: 0, 4200: 0, 4202: 0, 4203: 0, 4204: 0, 4205: 0, 4206: 0, 4208: 0, 4211: 0, 4212: 0, 4213: 0, 4214: 0, 4215: 0, 4216: 0, 4217: 0, 4218: 0, 4219: 0, 4221: 0, 4222: 0, 4223: 0, 4224: 0, 4225: 0, 4226: 0, 4227: 0, 4228: 0, 4229: 0, 4230: 0, 4231: 0, 4232: 0, 4233: 0, 4234: 0, 4235: 0, 4236: 0, 4238: 0, 4239: 0, 4240: 0, 4242: 0, 4243: 0, 4244: 0, 4245: 0, 4246: 0, 4247: 0, 4248: 0, 4249: 0, 4251: 0, 4252: 0, 4253: 0, 4255: 0, 4256: 0, 4257: 0, 4259: 0, 4261: 0, 4262: 0, 4263: 0, 4264: 0, 4265: 0, 4266: 0, 4267: 0, 4268: 0, 4269: 0, 4271: 0, 4272: 0, 4273: 0, 4274: 0, 4276: 0, 4277: 0, 4278: 0, 4279: 0, 4280: 0, 4281: 0, 4282: 0, 4283: 0, 4284: 0, 4285: 0, 4288: 0, 4289: 0, 4290: 0, 4292: 0, 4293: 0, 4294: 0, 4295: 0, 4296: 0, 4297: 0, 4299: 0, 4300: 0, 4301: 0, 4302: 0, 4303: 0, 4304: 0, 4305: 0, 4306: 0, 4307: 0, 4309: 0, 4310: 0, 4312: 0, 4313: 0, 4314: 0, 4315: 0, 4316: 0, 4317: 0, 4318: 0, 4319: 0, 4320: 0, 4321: 0, 4322: 0, 4323: 0, 4324: 0, 4325: 0, 4327: 0, 4328: 0, 4329: 0, 4330: 0, 4331: 0, 4332: 0, 4333: 0, 4334: 0, 4335: 0, 4337: 0, 4338: 0, 4339: 0, 4340: 0, 4341: 0, 4342: 0, 4343: 0, 4344: 0, 4345: 0, 4346: 0, 4347: 0, 4348: 0, 4350: 0, 4351: 0, 4352: 0, 4353: 0, 4354: 0, 4355: 0, 4356: 0, 4357: 0, 4358: 0, 4359: 0, 4360: 0, 4361: 0, 4362: 0, 4364: 0, 4365: 0, 4366: 0, 4367: 0, 4368: 0, 4369: 0, 4370: 0, 4371: 0, 4372: 0, 4373: 0, 4374: 0, 4375: 0, 4376: 0, 4377: 0, 4378: 0, 4379: 0, 4380: 0, 4381: 0, 4382: 0, 4383: 0, 4384: 0, 4385: 0, 4387: 0, 4388: 0, 4389: 0, 4390: 0, 4391: 0, 4392: 0, 4393: 0, 4394: 0, 4395: 0, 4396: 0, 4397: 0, 4398: 0, 4399: 0, 4400: 0, 4401: 0, 4402: 0, 4403: 0, 4404: 0, 4405: 0, 4406: 0, 4407: 0, 4408: 0, 4409: 0, 4410: 0, 4411: 0, 4412: 0, 4413: 0, 4414: 0, 4415: 0, 4416: 0, 4418: 0, 4419: 0, 4420: 0, 4421: 0, 4422: 0, 4423: 0, 4424: 0, 4425: 0, 4426: 0, 4428: 0, 4430: 0, 4431: 0, 4433: 0, 4434: 0, 4435: 0, 4436: 0, 4437: 0, 4438: 0, 4440: 0, 4441: 0, 4442: 0, 4443: 0, 4444: 0, 4445: 0, 4446: 0, 4447: 0, 4448: 0, 4450: 0, 4451: 0, 4452: 0, 4455: 0, 4457: 0, 4458: 0, 4460: 0, 4461: 0, 4462: 0, 4463: 0, 4464: 0, 4465: 0, 4466: 0, 4467: 0, 4468: 0, 4469: 0, 4470: 0, 4471: 0, 4472: 0, 4473: 0, 4474: 0, 4475: 0, 4476: 0, 4477: 0, 4478: 0, 4479: 0, 4480: 0, 4481: 0, 4482: 0, 4483: 0, 4484: 0, 4485: 0, 4486: 0, 4488: 0, 4490: 0, 4492: 0, 4493: 0, 4495: 0, 4496: 0, 4498: 0, 4499: 0, 4500: 0, 4501: 0, 4502: 0, 4503: 0, 4504: 0, 4505: 0, 4506: 0, 4507: 0, 4508: 0, 4509: 0, 4510: 0, 4511: 0, 4512: 0, 4513: 0, 4514: 0, 4515: 0, 4518: 0, 4519: 0, 4520: 0, 4521: 0, 4522: 0, 4523: 0, 4524: 0, 4525: 0, 4527: 0, 4528: 0, 4529: 0, 4530: 0, 4531: 0, 4532: 0, 4533: 0, 4534: 0, 4535: 0, 4536: 0, 4537: 0, 4538: 0, 4539: 0, 4540: 0, 4541: 0, 4542: 0, 4543: 0, 4544: 0, 4545: 0, 4546: 0, 4547: 0, 4549: 0, 4550: 0, 4551: 0, 4552: 0, 4553: 0, 4554: 0, 4555: 0, 4556: 0, 4557: 0, 4558: 0, 4559: 0, 4560: 0, 4561: 0, 4562: 0, 4563: 0, 4564: 0, 4565: 0, 4566: 0, 4567: 0, 4569: 0, 4570: 0, 4571: 0, 4572: 0, 4573: 0, 4574: 0, 4575: 0, 4576: 0, 4577: 0, 4578: 0, 4579: 0, 4580: 0, 4581: 0, 4582: 0, 4583: 0, 4585: 0, 4586: 0, 4587: 0, 4588: 0, 4589: 0, 4590: 0, 4592: 0, 4593: 0, 4594: 0, 4595: 0, 4596: 0, 4597: 0, 4598: 0, 4599: 0, 4600: 0, 4601: 0, 4602: 0, 4603: 0, 4604: 0, 4605: 0, 4606: 0, 4607: 0, 4608: 0, 4609: 0, 4610: 0, 4611: 0, 4612: 0, 4613: 0, 4614: 0, 4615: 0, 4616: 0, 4620: 0, 4621: 0, 4622: 0, 4624: 0, 4625: 0, 4626: 0, 4627: 0, 4629: 0, 4630: 0, 4631: 0, 4632: 0, 4633: 0, 4634: 0, 4635: 0, 4636: 0, 4637: 0, 4638: 0, 4639: 0, 4640: 0, 4641: 0, 4643: 0, 4644: 0, 4645: 0, 4646: 0, 4647: 0, 4648: 0, 4649: 0, 4650: 0, 4651: 0, 4652: 0, 4653: 0, 4654: 0, 4655: 0, 4656: 0, 4657: 0, 4658: 0, 4659: 0, 4661: 0, 4662: 0, 4663: 0, 4665: 0, 4666: 0, 4667: 0, 4668: 0, 4669: 0, 4670: 0, 4671: 0, 4672: 0, 4673: 0, 4674: 0, 4675: 0, 4676: 0, 4677: 0, 4679: 0, 4680: 0, 4681: 0, 4682: 0, 4684: 0, 4685: 0, 4686: 0, 4687: 0, 4688: 0, 4689: 0, 4690: 0, 4691: 0, 4692: 0, 4693: 0, 4695: 0, 4696: 0, 4697: 0, 4699: 0, 4700: 0, 4701: 0, 4702: 0, 4703: 0, 4704: 0, 4705: 0, 4706: 0, 4707: 0, 4708: 0, 4709: 0, 4710: 0, 4711: 0, 4712: 0, 4713: 0, 4714: 0, 4715: 0, 4716: 0, 4717: 0, 4719: 0, 4720: 0, 4721: 0, 4722: 0, 4726: 0, 4727: 0, 4728: 0, 4729: 0, 4730: 0, 4731: 0, 4733: 0, 4734: 0, 4735: 0, 4736: 0, 4737: 0, 4738: 0, 4739: 0, 4740: 0, 4741: 0, 4742: 0, 4743: 0, 4744: 0, 4745: 0, 4746: 0, 4749: 0, 4750: 0, 4751: 0, 4752: 0, 4753: 0, 4754: 0, 4756: 0, 4757: 0, 4758: 0, 4759: 0, 4760: 0, 4762: 0, 4763: 0, 4764: 0, 4765: 0, 4766: 0, 4767: 0, 4769: 0, 4770: 0, 4771: 0, 4772: 0, 4773: 0, 4774: 0, 4775: 0, 4776: 0, 4777: 0, 4778: 0, 4779: 0, 4780: 0, 4781: 0, 4782: 0, 4783: 0, 4784: 0, 4786: 0, 4787: 0, 4788: 0, 4789: 0, 4790: 0, 4792: 0, 4793: 0, 4794: 0, 4795: 0, 4796: 0, 4797: 0, 4798: 0, 4799: 0, 4800: 0, 4801: 0, 4802: 0, 4803: 0, 4805: 0, 4806: 0, 4807: 0, 4808: 0, 4809: 0, 4810: 0, 4811: 0, 4812: 0, 4813: 0, 4814: 0, 4815: 0, 4816: 0, 4817: 0, 4818: 0, 4819: 0, 4820: 0, 4821: 0, 4822: 0, 4823: 0, 4824: 0, 4825: 0, 4827: 0, 4828: 0, 4829: 0, 4830: 0, 4831: 0, 4832: 0, 4833: 0, 4834: 0, 4836: 0, 4838: 0, 4839: 0, 4840: 0, 4841: 0, 4842: 0, 4843: 0, 4844: 0, 4845: 0, 4847: 0, 4849: 0, 4850: 0, 4851: 0, 4852: 0, 4853: 0, 4854: 0, 4855: 0, 4856: 0, 4857: 0, 4858: 0, 4859: 0, 4860: 0, 4861: 0, 4862: 0, 4863: 0, 4864: 0, 4865: 0, 4866: 0, 4867: 0, 4868: 0, 4869: 0, 4870: 0, 4871: 0, 4872: 0, 4873: 0, 4874: 0, 4875: 0, 4877: 0, 4878: 0, 4879: 0, 4880: 0, 4881: 0, 4882: 0, 4883: 0, 4884: 0, 4885: 0, 4886: 0, 4887: 0, 4888: 0, 4889: 0, 4890: 0, 4891: 0, 4893: 0, 4894: 0, 4896: 0, 4897: 0, 4898: 0, 4899: 0, 4901: 0, 4902: 0, 4903: 0, 4904: 0, 4905: 0, 4906: 0, 4907: 0, 4908: 0, 4909: 0, 4910: 0, 4911: 0, 4912: 0, 4913: 0, 4914: 0, 4915: 0, 4916: 0, 4917: 0, 4919: 0, 4920: 0, 4921: 0, 4922: 0, 4923: 0, 4924: 0, 4925: 0, 4926: 0, 4927: 0, 4928: 0, 4929: 0, 4930: 0, 4931: 0, 4933: 0, 4935: 0, 4936: 0, 4937: 0, 4938: 0, 4939: 0, 4940: 0, 4941: 0, 4942: 0, 4943: 0, 4944: 0, 4945: 0, 4946: 0, 4948: 0, 4949: 0, 4950: 0, 4951: 0, 4952: 0, 4954: 0, 4955: 0, 4956: 0, 4957: 0, 4959: 0, 4960: 0, 4961: 0, 4962: 0, 4963: 0, 4964: 0, 4965: 0, 4966: 0, 4967: 0, 4968: 0, 4969: 0, 4971: 0, 4972: 0, 4973: 0, 4974: 0, 4975: 0, 4976: 0, 4978: 0, 4979: 0, 4980: 0, 4981: 0, 4982: 0, 4983: 0, 4984: 0, 4986: 0, 4987: 0, 4988: 0, 4989: 0, 4990: 0, 4991: 0, 4992: 0, 4993: 0, 4994: 0, 4996: 0, 4997: 0, 4998: 0, 4999: 0, 5000: 0, 5002: 0, 5003: 0, 5004: 0, 5005: 0, 5006: 0, 5007: 0, 5008: 0, 5009: 0, 5010: 0, 5011: 0, 5012: 0, 5013: 0, 5014: 0, 5015: 0, 5016: 0, 5017: 0, 5018: 0, 5019: 0, 5020: 0, 5022: 0, 5023: 0, 5024: 0, 5025: 0, 5026: 0, 5027: 0, 5028: 0, 5029: 0, 5030: 0, 5031: 0, 5032: 0, 5033: 0, 5034: 0, 5035: 0, 5036: 0, 5037: 0, 5038: 0, 5039: 0, 5040: 0, 5042: 0, 5043: 0, 5044: 0, 5045: 0, 5046: 0, 5047: 0, 5048: 0, 5049: 0, 5050: 0, 5051: 0, 5052: 0, 5053: 0, 5054: 0, 5055: 0, 5056: 0, 5057: 0, 5060: 0, 5061: 0, 5063: 0, 5064: 0, 5065: 0, 5066: 0, 5067: 0, 5068: 0, 5069: 0, 5070: 0, 5071: 0, 5072: 0, 5073: 0, 5074: 0, 5075: 0, 5076: 0, 5077: 0, 5078: 0, 5079: 0, 5080: 0, 5081: 0, 5083: 0, 5084: 0, 5085: 0, 5086: 0, 5087: 0, 5089: 0, 5090: 0, 5091: 0, 5092: 0, 5093: 0, 5094: 0, 5095: 0, 5096: 0, 5097: 0, 5098: 0, 5099: 0, 5100: 0, 5101: 0, 5102: 0, 5103: 0, 5104: 0, 5105: 0, 5106: 0, 5107: 0, 5108: 0, 5109: 0, 5110: 0, 5111: 0, 5112: 0, 5113: 0, 5114: 0, 5115: 0, 5116: 0, 5117: 0, 5118: 0, 5119: 0, 5120: 0, 5121: 0, 5122: 0, 5123: 0, 5124: 0, 5125: 0, 5126: 0, 5128: 0, 5129: 0, 5130: 0, 5131: 0, 5132: 0, 5133: 0, 5134: 0, 5135: 0, 5136: 0, 5137: 0, 5139: 0, 5141: 0, 5143: 0, 5144: 0, 5146: 0, 5147: 0, 5149: 0}\n"
     ]
    }
   ],
   "source": [
    "user_id = 12\n",
    "user_array = user_item.loc[user_id].values\n",
    "#user_removed = user_item.drop(user_item.loc[12])\n",
    "#user_item.drop(user_id)\n",
    "\n",
    "similarity_dict = {}\n",
    "for index, row in user_item.iterrows():\n",
    "        similarity_dict[index] = np.dot(user_array, row.values)\n",
    "\n",
    "sorted_dict_desc = dict(sorted(similarity_dict.items(), key=lambda item: item[1], reverse=True))\n",
    "print(sorted_dict_desc)"
   ]
  },
  {
   "cell_type": "code",
   "execution_count": 156,
   "metadata": {},
   "outputs": [
    {
     "name": "stdout",
     "output_type": "stream",
     "text": [
      "The 10 most similar users to user 1 are: [3524, 8, 131, 535, 734, 2975, 3601, 3870, 4021, 21]\n",
      "The 5 most similar users to user 3933 are: [1, 23, 3782, 203, 4459]\n",
      "The 3 most similar users to user 46 are: [4201, 23, 3782]\n"
     ]
    }
   ],
   "source": [
    "# Do a spot check of your function\n",
    "print(\"The 10 most similar users to user 1 are: {}\".format(find_similar_users(12)[:10]))\n",
    "print(\"The 5 most similar users to user 3933 are: {}\".format(find_similar_users(3933)[:5]))\n",
    "print(\"The 3 most similar users to user 46 are: {}\".format(find_similar_users(46)[:3]))"
   ]
  },
  {
   "cell_type": "code",
   "execution_count": 88,
   "metadata": {},
   "outputs": [
    {
     "name": "stdout",
     "output_type": "stream",
     "text": [
      "{'using deep learning to reconstruct high-resolution audio', 'gosales transactions for naive bayes model', 'use r dataframes & ibm watson natural language understanding', 'build a python app on the streaming analytics service', 'healthcare python streaming application demo', 'use xgboost, scikit-learn & ibm watson machine learning apis'}\n",
      "{'using deep learning to reconstruct high-resolution audio', 'gosales transactions for naive bayes model', 'use r dataframes & ibm watson natural language understanding', 'build a python app on the streaming analytics service', 'healthcare python streaming application demo', 'use xgboost, scikit-learn & ibm watson machine learning apis'}\n"
     ]
    }
   ],
   "source": [
    "df.head()\n",
    "article_id_list = ['1024.0', '1176.0', '1305.0', '1314.0', '1422.0', '1427.0']\n",
    "#article_id_list = ['1024.0','1176.0']\n",
    "print(set(list(df[df['article_id'].isin(article_id_list)]['title'])))\n",
    "print(set(['using deep learning to reconstruct high-resolution audio', 'build a python app on the streaming analytics service', 'gosales transactions for naive bayes model', 'healthcare python streaming application demo', 'use r dataframes & ibm watson natural language understanding', 'use xgboost, scikit-learn & ibm watson machine learning apis']))"
   ]
  },
  {
   "cell_type": "code",
   "execution_count": 89,
   "metadata": {},
   "outputs": [
    {
     "data": {
      "text/plain": [
       "['232.0', '844.0', '1320.0']"
      ]
     },
     "execution_count": 89,
     "metadata": {},
     "output_type": "execute_result"
    }
   ],
   "source": [
    "#print(user_item.head())\n",
    "user_items_all = user_item.loc[20]\n",
    "#user_items_all\n",
    "user_items_viewed = list(map(str, user_items_all[user_items_all == 1].index))\n",
    "user_items_viewed\n",
    "#set(get_article_names(user_items_viewed, df=df))\n"
   ]
  },
  {
   "cell_type": "markdown",
   "metadata": {},
   "source": [
    "`3.` Now that you have a function that provides the most similar users to each user, you will want to use these users to find articles you can recommend.  Complete the functions below to return the articles you would recommend to each user. "
   ]
  },
  {
   "cell_type": "code",
   "execution_count": 157,
   "metadata": {},
   "outputs": [],
   "source": [
    "def get_article_names(article_ids, df=df):\n",
    "    '''\n",
    "    INPUT:\n",
    "    article_ids - (list) a list of article ids\n",
    "    df - (pandas dataframe) df as defined at the top of the notebook\n",
    "    \n",
    "    OUTPUT:\n",
    "    article_names - (list) a list of article names associated with the list of article ids \n",
    "                    (this is identified by the title column)\n",
    "    '''\n",
    "    # Your code here\n",
    "    \n",
    "    article_names = list(df[df['article_id'].isin(article_ids)]['title'])\n",
    "    return article_names # Return the article names associated with list of article ids\n",
    "\n",
    "\n",
    "def get_user_articles(user_id, user_item=user_item):\n",
    "    '''\n",
    "    INPUT:\n",
    "    user_id - (int) a user id\n",
    "    user_item - (pandas dataframe) matrix of users by articles: \n",
    "                1's when a user has interacted with an article, 0 otherwise\n",
    "    \n",
    "    OUTPUT:\n",
    "    article_ids - (list) a list of the article ids seen by the user\n",
    "    article_names - (list) a list of article names associated with the list of article ids \n",
    "                    (this is identified by the doc_full_name column in df_content)\n",
    "    \n",
    "    Description:\n",
    "    Provides a list of the article_ids and article titles that have been seen by a user\n",
    "    '''\n",
    "    user_items_all = user_item.loc[user_id]\n",
    "    # Find only matches denoted by 1 and then format to strings\n",
    "    article_ids = list(map(str, user_items_all[user_items_all == 1].index))\n",
    "    article_names = set(get_article_names(article_ids, df=df))\n",
    "    return article_ids, article_names # return the ids and names\n",
    "\n",
    "\n",
    "def user_user_recs(user_id, m=10):\n",
    "    '''\n",
    "    INPUT:\n",
    "    user_id - (int) a user id\n",
    "    m - (int) the number of recommendations you want for the user\n",
    "    \n",
    "    OUTPUT:\n",
    "    recs - (list) a list of recommendations for the user\n",
    "    \n",
    "    Description:\n",
    "    Loops through the users based on closeness to the input user_id\n",
    "    For each user - finds articles the user hasn't seen before and provides them as recs\n",
    "    Does this until m recommendations are found\n",
    "    \n",
    "    Notes:\n",
    "    Users who are the same closeness are chosen arbitrarily as the 'next' user\n",
    "    \n",
    "    For the user where the number of recommended articles starts below m \n",
    "    and ends exceeding m, the last items are chosen arbitrarily\n",
    "    \n",
    "    '''\n",
    "    # Your code here\n",
    "    similar_users = find_similar_users(user_id)\n",
    "    user_watched_list = get_user_articles(user_id)[0]\n",
    "    recs = []\n",
    "    \n",
    "    # Loop through users\n",
    "    for user in similar_users:\n",
    "        if len(recs) >= m:\n",
    "            break\n",
    "        # get watched ids\n",
    "        article_list = get_user_articles(user)[0]\n",
    "        # compare to ids user has watched and take out the intersection\n",
    "        # For each user - finds articles the user hasn't seen before and provides them as recs\n",
    "        unseen = list(set(article_list) - set(user_watched_list))\n",
    "        for id in unseen:\n",
    "            # Does this until m recommendations are found\n",
    "            if len(recs) >= m:\n",
    "                break\n",
    "                recs.append(id)\n",
    "            else:\n",
    "                recs.append(id)\n",
    "    \n",
    "    return recs # return your recommendations for this user_id    "
   ]
  },
  {
   "cell_type": "code",
   "execution_count": 158,
   "metadata": {},
   "outputs": [
    {
     "name": "stdout",
     "output_type": "stream",
     "text": [
      "1\n",
      "2\n",
      "3\n",
      "4\n",
      "5\n",
      "6\n",
      "7\n",
      "8\n",
      "9\n",
      "10\n",
      "11\n",
      "['1393.0', '1343.0', '210.0', '1014.0', '729.0', '1148.0', '825.0', '337.0', '800.0', '1025.0', '295.0']\n"
     ]
    }
   ],
   "source": [
    "similar_users = find_similar_users(1)\n",
    "user_watched_list = get_user_articles(user_id)[0]\n",
    "recs = []\n",
    "for user in similar_users:\n",
    "    if len(recs) > 10:\n",
    "        break\n",
    "    article_list = get_user_articles(user)[0]\n",
    "    unseen = list(set(article_list) - set(user_watched_list))\n",
    "    for id in unseen:\n",
    "        if len(recs) > 10:\n",
    "            break\n",
    "        else:\n",
    "            recs.append(id)\n",
    "            print(len(recs))\n",
    "    \n",
    "    # get ids watched\n",
    "print(recs)"
   ]
  },
  {
   "cell_type": "code",
   "execution_count": 159,
   "metadata": {},
   "outputs": [
    {
     "data": {
      "text/plain": [
       "{'1448    i ranked every intro to data science course on...\\nName: title, dtype: object',\n",
       " 'airbnb data for analytics: vancouver listings',\n",
       " 'data tidying in data science experience',\n",
       " 'generalization in deep learning',\n",
       " 'machine learning for the enterprise',\n",
       " 'maximize oil company profits',\n",
       " 'pixiedust 1.0 is here! – ibm watson data lab',\n",
       " 'the nurse assignment problem',\n",
       " 'this week in data science (february 14, 2017)',\n",
       " 'what is smote in an imbalanced class setting (e.g. fraud detection)?'}"
      ]
     },
     "execution_count": 159,
     "metadata": {},
     "output_type": "execute_result"
    }
   ],
   "source": [
    "# Check Results\n",
    "set(get_article_names(user_user_recs(1, 10))) # Return 10 recommendations for user 1"
   ]
  },
  {
   "cell_type": "code",
   "execution_count": 160,
   "metadata": {},
   "outputs": [
    {
     "name": "stdout",
     "output_type": "stream",
     "text": [
      "If this is all you see, you passed all of our tests!  Nice job!\n"
     ]
    }
   ],
   "source": [
    "# Test your functions here - No need to change this code - just run this cell\n",
    "assert set(get_article_names(['1024.0', '1176.0', '1305.0', '1314.0', '1422.0', '1427.0'])) == set(['using deep learning to reconstruct high-resolution audio', 'build a python app on the streaming analytics service', 'gosales transactions for naive bayes model', 'healthcare python streaming application demo', 'use r dataframes & ibm watson natural language understanding', 'use xgboost, scikit-learn & ibm watson machine learning apis']), \"Oops! Your the get_article_names function doesn't work quite how we expect.\"\n",
    "assert set(get_article_names(['1320.0', '232.0', '844.0'])) == set(['housing (2015): united states demographic measures','self-service data preparation with ibm data refinery','use the cloudant-spark connector in python notebook']), \"Oops! Your the get_article_names function doesn't work quite how we expect.\"\n",
    "assert set(get_user_articles(20)[0]) == set(['232.0', '844.0', '1320.0'])\n",
    "assert set(get_user_articles(20)[1]) == set(['housing (2015): united states demographic measures', 'self-service data preparation with ibm data refinery','use the cloudant-spark connector in python notebook'])\n",
    "assert set(get_user_articles(2)[0]) == set(['1024.0', '1176.0', '1305.0', '1314.0', '1422.0', '1427.0'])\n",
    "assert set(get_user_articles(2)[1]) == set(['using deep learning to reconstruct high-resolution audio', 'build a python app on the streaming analytics service', 'gosales transactions for naive bayes model', 'healthcare python streaming application demo', 'use r dataframes & ibm watson natural language understanding', 'use xgboost, scikit-learn & ibm watson machine learning apis'])\n",
    "print(\"If this is all you see, you passed all of our tests!  Nice job!\")\n"
   ]
  },
  {
   "cell_type": "markdown",
   "metadata": {},
   "source": [
    "`4.` Now we are going to improve the consistency of the **user_user_recs** function from above.  \n",
    "\n",
    "* Instead of arbitrarily choosing when we obtain users who are all the same closeness to a given user - choose the users that have the most total article interactions before choosing those with fewer article interactions.\n",
    "\n",
    "\n",
    "* Instead of arbitrarily choosing articles from the user where the number of recommended articles starts below m and ends exceeding m, choose articles with the articles with the most total interactions before choosing those with fewer total interactions. This ranking should be  what would be obtained from the **top_articles** function you wrote earlier."
   ]
  },
  {
   "cell_type": "code",
   "execution_count": 162,
   "metadata": {},
   "outputs": [
    {
     "name": "stdout",
     "output_type": "stream",
     "text": [
      "   user_id  similarity_score\n",
      "0        2                 2\n",
      "1        3                 6\n",
      "2        4                 3\n",
      "3        5                 0\n",
      "4        6                 4\n",
      "         article_interactions\n",
      "user_id                      \n",
      "1                          47\n",
      "2                           6\n",
      "3                          82\n",
      "4                          45\n",
      "5                           5\n",
      "      user_id  similarity_score  article_interactions\n",
      "3931     3933                35                    45\n",
      "21         23                17                   364\n",
      "3780     3782                17                   363\n",
      "201       203                15                   160\n",
      "4457     4459                15                   158\n"
     ]
    }
   ],
   "source": [
    "user_id = 1\n",
    "\n",
    "# top 5 similar 3933, 23, 3782, 203, 4459\n",
    "#user_item.head()\n",
    "#print(find_similar_users(1))\n",
    "# Filtered array with user removed\n",
    "# Array for user of interest\n",
    "user_array = user_item.loc[user_id].values\n",
    "similarity_dict = {}    \n",
    "# Filtered array with user removed\n",
    "user_item_filtered = user_item.drop(user_id)\n",
    "    \n",
    "# Iterate through each user to calculate store the score\n",
    "for index, row in user_item_filtered.iterrows():\n",
    "    similarity_dict[index] = np.dot(user_array, row.values)\n",
    "        \n",
    "# sort by similarity\n",
    "sorted_dict_desc = dict(sorted(similarity_dict.items(), key=lambda item: item[1], reverse=True))\n",
    "neighbors_df = pd.DataFrame(list(similarity_dict.items()), columns=['user_id', 'similarity_score'])\n",
    "interactions_df = pd.DataFrame(df.groupby('user_id')['article_id'].count())\n",
    "interactions_df.rename(columns={'article_id': 'article_interactions'}, inplace=True)\n",
    "print(neighbors_df.head())\n",
    "print(interactions_df.head())\n",
    "neighbors_df = pd.merge(neighbors_df, interactions_df, on='user_id', how='left')\n",
    "neighbors_df = neighbors_df.fillna(0)\n",
    "\n",
    "print(neighbors_df.sort_values(by=['similarity_score', 'article_interactions'], ascending=False).head())\n"
   ]
  },
  {
   "cell_type": "code",
   "execution_count": 95,
   "metadata": {},
   "outputs": [],
   "source": [
    "def get_top_sorted_users(user_id, df=df, user_item=user_item):\n",
    "    '''\n",
    "    INPUT:\n",
    "    user_id - (int)\n",
    "    df - (pandas dataframe) df as defined at the top of the notebook \n",
    "    user_item - (pandas dataframe) matrix of users by articles: \n",
    "            1's when a user has interacted with an article, 0 otherwise\n",
    "    \n",
    "            \n",
    "    OUTPUT:\n",
    "    neighbors_df - (pandas dataframe) a dataframe with:\n",
    "                    neighbor_id - is a neighbor user_id\n",
    "                    similarity - measure of the similarity of each user to the provided user_id\n",
    "                    num_interactions - the number of articles viewed by the user - if a u\n",
    "                    \n",
    "    Other Details - sort the neighbors_df by the similarity and then by number of interactions where \n",
    "                    highest of each is higher in the dataframe\n",
    "     \n",
    "    '''\n",
    "    # Your code here\n",
    "    # Array for user of interest\n",
    "    user_array = user_item.loc[user_id].values\n",
    "    similarity_dict = {}\n",
    "    # Filtered array with user removed\n",
    "    user_item_filtered = user_item.drop(user_id)\n",
    "    \n",
    "    # Iterate through each user to calculate store the score\n",
    "    for index, row in user_item_filtered.iterrows():\n",
    "        similarity_dict[index] = np.dot(user_array, row.values)\n",
    "        \n",
    "    # sort by similarity\n",
    "    sorted_dict_desc = dict(sorted(similarity_dict.items(), key=lambda item: item[1], reverse=True))\n",
    "    neighbors_df = pd.DataFrame(list(similarity_dict.items()), columns=['user_id', 'similarity_score'])\n",
    "    #print(neighbors_df.sort_values(by='similarity_score', ascending=False).head())\n",
    "    interactions_df = pd.DataFrame(df.groupby('user_id')['article_id'].count())\n",
    "    interactions_df.rename(columns={'article_id': 'article_interactions'}, inplace=True)\n",
    "    \n",
    "    neighbors_df = pd.merge(neighbors_df, interactions_df, on='user_id', how='left')\n",
    "    neighbors_df = neighbors_df.fillna(0)\n",
    "    \n",
    "    neighbors_df = neighbors_df.sort_values(by=['similarity_score', 'article_interactions'], ascending=False)\n",
    "    \n",
    "    return neighbors_df # Return the dataframe specified in the doc_string\n",
    "\n",
    "\n",
    "def user_user_recs_part2(user_id, m=10):\n",
    "    '''\n",
    "    INPUT:\n",
    "    user_id - (int) a user id\n",
    "    m - (int) the number of recommendations you want for the user\n",
    "    \n",
    "    OUTPUT:\n",
    "    recs - (list) a list of recommendations for the user by article id\n",
    "    rec_names - (list) a list of recommendations for the user by article title\n",
    "    \n",
    "    Description:\n",
    "    Loops through the users based on closeness to the input user_id\n",
    "    For each user - finds articles the user hasn't seen before and provides them as recs\n",
    "    Does this until m recommendations are found\n",
    "    \n",
    "    Notes:\n",
    "    * Choose the users that have the most total article interactions \n",
    "    before choosing those with fewer article interactions.\n",
    "\n",
    "    * Choose articles with the articles with the most total interactions \n",
    "    before choosing those with fewer total interactions. \n",
    "   \n",
    "    '''\n",
    "    # Your code here\n",
    "    top_sorted_users = get_top_sorted_users(user_id).user_id.values    \n",
    "    recs = []\n",
    "    \n",
    "    # Loop through users\n",
    "    for user in top_sorted_users:\n",
    "        # Stop loop if length of list is equal to n\n",
    "        if len(recs) >= m:\n",
    "            break\n",
    "        \n",
    "        # Get list of articles user has seen\n",
    "        neighbor_list = get_user_articles(user)[0]\n",
    "        \n",
    "        # Get list of articles top neighbor has seen\n",
    "        user_list = get_user_articles(user_id)[0]\n",
    "        \n",
    "        # Subtract user list from top neighbor list and sort by total interactions\n",
    "\n",
    "        unseen = list(set(neighbor_list) - set(user_list))\n",
    "        for id in unseen:\n",
    "            # Does this until m recommendations are found\n",
    "            if len(recs) >= m:\n",
    "                break\n",
    "                recs.append(id)\n",
    "            else:\n",
    "                recs.append(id)\n",
    "    rec_names = list(set(get_article_names(recs)))\n",
    "    \n",
    "    return recs, rec_names"
   ]
  },
  {
   "cell_type": "code",
   "execution_count": 163,
   "metadata": {},
   "outputs": [
    {
     "name": "stdout",
     "output_type": "stream",
     "text": [
      "The top 10 recommendations for user 20 are the following article ids:\n",
      "['1433.0', '1368.0', '1330.0', '555.0', '1411.0', '793.0', '1152.0', '681.0', '1331.0', '1407.0']\n",
      "\n",
      "The top 10 recommendations for user 20 are the following article names:\n",
      "['10 powerful features on watson data platform, no coding necessary', 'intentional homicide, number and rate per 100,000 population, by country', 'visualize the 1854 london cholera outbreak', 'airbnb data for analytics: venice reviews', 'uci: poker hand - testing data set', 'insights from new york car accident reports', 'real-time sentiment analysis of twitter hashtags with spark (+ pixiedust)', 'build a naive-bayes model with wml & dsx', 'putting a human face on machine learning', 'uci: white wine quality']\n"
     ]
    }
   ],
   "source": [
    "# Quick spot check - don't change this code - just use it to test your functions\n",
    "rec_ids, rec_names = user_user_recs_part2(20, 10)\n",
    "print(\"The top 10 recommendations for user 20 are the following article ids:\")\n",
    "print(rec_ids)\n",
    "print()\n",
    "print(\"The top 10 recommendations for user 20 are the following article names:\")\n",
    "print(rec_names)"
   ]
  },
  {
   "cell_type": "markdown",
   "metadata": {},
   "source": [
    "`5.` Use your functions from above to correctly fill in the solutions to the dictionary below.  Then test your dictionary against the solution.  Provide the code you need to answer each following the comments below."
   ]
  },
  {
   "cell_type": "code",
   "execution_count": 97,
   "metadata": {},
   "outputs": [
    {
     "name": "stdout",
     "output_type": "stream",
     "text": [
      "242\n"
     ]
    }
   ],
   "source": [
    "### Tests with a dictionary of results\n",
    "\n",
    "user1_most_sim = get_top_sorted_users(1).reset_index()['user_id'][0] # Find the user that is most similar to user 1 \n",
    "user131_10th_sim = get_top_sorted_users(131).reset_index()['user_id'][9]# Find the 10th most similar user to user 131\n",
    "print(user131_10th_sim)"
   ]
  },
  {
   "cell_type": "code",
   "execution_count": 164,
   "metadata": {},
   "outputs": [
    {
     "name": "stdout",
     "output_type": "stream",
     "text": [
      "This all looks good!  Nice job!\n"
     ]
    }
   ],
   "source": [
    "## Dictionary Test Here\n",
    "sol_5_dict = {\n",
    "    'The user that is most similar to user 1.': user1_most_sim, \n",
    "    'The user that is the 10th most similar to user 131': user131_10th_sim,\n",
    "}\n",
    "\n",
    "t.sol_5_test(sol_5_dict)"
   ]
  },
  {
   "cell_type": "markdown",
   "metadata": {},
   "source": [
    "`6.` If we were given a new user, which of the above functions would you be able to use to make recommendations?  Explain.  Can you think of a better way we might make recommendations?  Use the cell below to explain a better method for new users."
   ]
  },
  {
   "cell_type": "markdown",
   "metadata": {},
   "source": [
    "**Provide your response here.**\n",
    "You could use the get_top_articles function to make a movie recommendation to a new user.  If we wanted to improve we could rank the top ranked articles based on views and also on the number of unique users that have viewed them."
   ]
  },
  {
   "cell_type": "markdown",
   "metadata": {},
   "source": [
    "`7.` Using your existing functions, provide the top 10 recommended articles you would provide for the a new user below.  You can test your function against our thoughts to make sure we are all on the same page with how we might make a recommendation."
   ]
  },
  {
   "cell_type": "code",
   "execution_count": 165,
   "metadata": {},
   "outputs": [
    {
     "name": "stdout",
     "output_type": "stream",
     "text": [
      "{'1170.0', '1330.0', '1427.0', '1364.0', '1429.0', '1314.0', '1162.0', '1431.0', '1304.0', '1293.0'}\n"
     ]
    }
   ],
   "source": [
    "new_user = '0.0'\n",
    "\n",
    "# What would your recommendations be for this new user '0.0'?  As a new user, they have no observed articles.\n",
    "# Provide a list of the top 10 article ids you would give to \n",
    "new_user_recs = list(map(str, get_top_article_ids(10)))# Your recommendations here\n",
    "print(set(new_user_recs))\n",
    "\n"
   ]
  },
  {
   "cell_type": "code",
   "execution_count": 166,
   "metadata": {},
   "outputs": [
    {
     "name": "stdout",
     "output_type": "stream",
     "text": [
      "That's right!  Nice job!\n"
     ]
    }
   ],
   "source": [
    "assert set(new_user_recs) == set(['1314.0','1429.0','1293.0','1427.0','1162.0','1364.0','1304.0','1170.0','1431.0','1330.0']), \"Oops!  It makes sense that in this case we would want to recommend the most popular articles, because we don't know anything about these users.\"\n",
    "\n",
    "print(\"That's right!  Nice job!\")"
   ]
  },
  {
   "cell_type": "markdown",
   "metadata": {},
   "source": [
    "### <a class=\"anchor\" id=\"Content-Recs\">Part IV: Content Based Recommendations (EXTRA - NOT REQUIRED)</a>\n",
    "\n",
    "Another method we might use to make recommendations is to perform a ranking of the highest ranked articles associated with some term.  You might consider content to be the **doc_body**, **doc_description**, or **doc_full_name**.  There isn't one way to create a content based recommendation, especially considering that each of these columns hold content related information.  \n",
    "\n",
    "`1.` Use the function body below to create a content based recommender.  Since there isn't one right answer for this recommendation tactic, no test functions are provided.  Feel free to change the function inputs if you decide you want to try a method that requires more input values.  The input values are currently set with one idea in mind that you may use to make content based recommendations.  One additional idea is that you might want to choose the most popular recommendations that meet your 'content criteria', but again, there is a lot of flexibility in how you might make these recommendations.\n",
    "\n",
    "### This part is NOT REQUIRED to pass this project.  However, you may choose to take this on as an extra way to show off your skills."
   ]
  },
  {
   "cell_type": "code",
   "execution_count": 101,
   "metadata": {},
   "outputs": [],
   "source": [
    "def make_content_recs():\n",
    "    '''\n",
    "    INPUT:\n",
    "    \n",
    "    OUTPUT:\n",
    "    \n",
    "    '''"
   ]
  },
  {
   "cell_type": "markdown",
   "metadata": {},
   "source": [
    "`2.` Now that you have put together your content-based recommendation system, use the cell below to write a summary explaining how your content based recommender works.  Do you see any possible improvements that could be made to your function?  Is there anything novel about your content based recommender?\n",
    "\n",
    "### This part is NOT REQUIRED to pass this project.  However, you may choose to take this on as an extra way to show off your skills."
   ]
  },
  {
   "cell_type": "markdown",
   "metadata": {},
   "source": [
    "**Write an explanation of your content based recommendation system here.**"
   ]
  },
  {
   "cell_type": "markdown",
   "metadata": {},
   "source": [
    "`3.` Use your content-recommendation system to make recommendations for the below scenarios based on the comments.  Again no tests are provided here, because there isn't one right answer that could be used to find these content based recommendations.\n",
    "\n",
    "### This part is NOT REQUIRED to pass this project.  However, you may choose to take this on as an extra way to show off your skills."
   ]
  },
  {
   "cell_type": "code",
   "execution_count": 102,
   "metadata": {},
   "outputs": [],
   "source": [
    "# make recommendations for a brand new user\n",
    "\n",
    "\n",
    "# make a recommendations for a user who only has interacted with article id '1427.0'\n",
    "\n"
   ]
  },
  {
   "cell_type": "markdown",
   "metadata": {},
   "source": [
    "### <a class=\"anchor\" id=\"Matrix-Fact\">Part V: Matrix Factorization</a>\n",
    "\n",
    "In this part of the notebook, you will build use matrix factorization to make article recommendations to the users on the IBM Watson Studio platform.\n",
    "\n",
    "`1.` You should have already created a **user_item** matrix above in **question 1** of **Part III** above.  This first question here will just require that you run the cells to get things set up for the rest of **Part V** of the notebook. "
   ]
  },
  {
   "cell_type": "code",
   "execution_count": 167,
   "metadata": {},
   "outputs": [],
   "source": [
    "# Load the matrix here\n",
    "user_item_matrix = pd.read_pickle('user_item_matrix.p')"
   ]
  },
  {
   "cell_type": "code",
   "execution_count": 168,
   "metadata": {},
   "outputs": [
    {
     "name": "stdout",
     "output_type": "stream",
     "text": [
      "article_id  0.0  100.0  1000.0  1004.0  1006.0  1008.0  101.0  1014.0  1015.0  \\\n",
      "user_id                                                                         \n",
      "1           0.0    0.0     0.0     0.0     0.0     0.0    0.0     0.0     0.0   \n",
      "2           0.0    0.0     0.0     0.0     0.0     0.0    0.0     0.0     0.0   \n",
      "3           0.0    0.0     0.0     0.0     0.0     0.0    0.0     0.0     0.0   \n",
      "4           0.0    0.0     0.0     0.0     0.0     0.0    0.0     0.0     0.0   \n",
      "5           0.0    0.0     0.0     0.0     0.0     0.0    0.0     0.0     0.0   \n",
      "\n",
      "article_id  1016.0  ...    977.0  98.0  981.0  984.0  985.0  986.0  990.0  \\\n",
      "user_id             ...                                                     \n",
      "1              0.0  ...      0.0   0.0    1.0    0.0    0.0    0.0    0.0   \n",
      "2              0.0  ...      0.0   0.0    0.0    0.0    0.0    0.0    0.0   \n",
      "3              0.0  ...      1.0   0.0    0.0    0.0    0.0    0.0    0.0   \n",
      "4              0.0  ...      0.0   0.0    0.0    0.0    0.0    0.0    0.0   \n",
      "5              0.0  ...      0.0   0.0    0.0    0.0    0.0    0.0    0.0   \n",
      "\n",
      "article_id  993.0  996.0  997.0  \n",
      "user_id                          \n",
      "1             0.0    0.0    0.0  \n",
      "2             0.0    0.0    0.0  \n",
      "3             0.0    0.0    0.0  \n",
      "4             0.0    0.0    0.0  \n",
      "5             0.0    0.0    0.0  \n",
      "\n",
      "[5 rows x 714 columns]\n"
     ]
    },
    {
     "data": {
      "text/plain": [
       "(5149, 714)"
      ]
     },
     "execution_count": 168,
     "metadata": {},
     "output_type": "execute_result"
    }
   ],
   "source": [
    "# quick look at the matrix\n",
    "print(user_item_matrix.head())\n",
    "user_item_matrix.shape"
   ]
  },
  {
   "cell_type": "markdown",
   "metadata": {},
   "source": [
    "`2.` In this situation, you can use Singular Value Decomposition from [numpy](https://docs.scipy.org/doc/numpy-1.14.0/reference/generated/numpy.linalg.svd.html) on the user-item matrix.  Use the cell to perform SVD, and explain why this is different than in the lesson."
   ]
  },
  {
   "cell_type": "code",
   "execution_count": 169,
   "metadata": {},
   "outputs": [],
   "source": [
    "# Perform SVD on the User-Item Matrix Here\n",
    "\n",
    "u, s, vt = np.linalg.svd(user_item_matrix) # use the built in to get the three matrices"
   ]
  },
  {
   "cell_type": "markdown",
   "metadata": {},
   "source": [
    "**Provide your response here.**\n",
    "This version is differents compared to the lesson in that it is looking at binary interactions with articles rather than ratings.  "
   ]
  },
  {
   "cell_type": "markdown",
   "metadata": {},
   "source": [
    "`3.` Now for the tricky part, how do we choose the number of latent features to use?  Running the below cell, you can see that as the number of latent features increases, we obtain a lower error rate on making predictions for the 1 and 0 values in the user-item matrix.  Run the cell below to get an idea of how the accuracy improves as we increase the number of latent features."
   ]
  },
  {
   "cell_type": "code",
   "execution_count": 173,
   "metadata": {},
   "outputs": [
    {
     "data": {
      "image/png": "[encoded data removed]",
      "text/plain": [
       "<matplotlib.figure.Figure at 0x7ecf2a423198>"
      ]
     },
     "metadata": {
      "needs_background": "light"
     },
     "output_type": "display_data"
    }
   ],
   "source": [
    "num_latent_feats = np.arange(10,700+10,20)\n",
    "sum_errs = []\n",
    "\n",
    "for k in num_latent_feats:\n",
    "    # restructure with k latent features\n",
    "    s_new, u_new, vt_new = np.diag(s[:k]), u[:, :k], vt[:k, :]\n",
    "    \n",
    "    # take dot product\n",
    "    user_item_est = np.around(np.dot(np.dot(u_new, s_new), vt_new))\n",
    "    #print(user_item_est.shape, user_item_matrix.shape)\n",
    "    \n",
    "    # compute error for each prediction to actual value\n",
    "    diffs = np.subtract(user_item_matrix, user_item_est)\n",
    "    \n",
    "    # total errors and keep track of them\n",
    "    err = np.sum(np.sum(np.abs(diffs)))\n",
    "    sum_errs.append(err)\n",
    "    \n",
    "    \n",
    "plt.plot(num_latent_feats, 1 - np.array(sum_errs)/df.shape[0]);\n",
    "plt.xlabel('Number of Latent Features');\n",
    "plt.ylabel('Accuracy');\n",
    "plt.title('Accuracy vs. Number of Latent Features');"
   ]
  },
  {
   "cell_type": "markdown",
   "metadata": {},
   "source": [
    "`4.` From the above, we can't really be sure how many features to use, because simply having a better way to predict the 1's and 0's of the matrix doesn't exactly give us an indication of if we are able to make good recommendations.  Instead, we might split our dataset into a training and test set of data, as shown in the cell below.  \n",
    "\n",
    "Use the code from question 3 to understand the impact on accuracy of the training and test sets of data with different numbers of latent features. Using the split below: \n",
    "\n",
    "* How many users can we make predictions for in the test set?  \n",
    "* How many users are we not able to make predictions for because of the cold start problem?\n",
    "* How many articles can we make predictions for in the test set?  \n",
    "* How many articles are we not able to make predictions for because of the cold start problem?"
   ]
  },
  {
   "cell_type": "code",
   "execution_count": 174,
   "metadata": {},
   "outputs": [
    {
     "data": {
      "text/plain": [
       "Float64Index([   0.0,    2.0,    4.0,    8.0,    9.0,   12.0,   14.0,   15.0,\n",
       "                16.0,   18.0,\n",
       "              ...\n",
       "              1434.0, 1435.0, 1436.0, 1437.0, 1439.0, 1440.0, 1441.0, 1442.0,\n",
       "              1443.0, 1444.0],\n",
       "             dtype='float64', name='article_id', length=714)"
      ]
     },
     "execution_count": 174,
     "metadata": {},
     "output_type": "execute_result"
    }
   ],
   "source": [
    "df_train = df.head(40000)\n",
    "df_test = df.tail(5993)\n",
    "user_item_train = create_user_item_matrix(df_train)\n",
    "user_item_train.columns"
   ]
  },
  {
   "cell_type": "code",
   "execution_count": 175,
   "metadata": {},
   "outputs": [],
   "source": [
    "df_train = df.head(40000)\n",
    "df_test = df.tail(5993)\n",
    "\n",
    "def create_test_and_train_user_item(df_train, df_test):\n",
    "    '''\n",
    "    INPUT:\n",
    "    df_train - training dataframe\n",
    "    df_test - test dataframe\n",
    "    \n",
    "    OUTPUT:\n",
    "    user_item_train - a user-item matrix of the training dataframe \n",
    "                      (unique users for each row and unique articles for each column)\n",
    "    user_item_test - a user-item matrix of the testing dataframe \n",
    "                    (unique users for each row and unique articles for each column)\n",
    "    test_idx - all of the test user ids\n",
    "    test_arts - all of the test article ids\n",
    "    \n",
    "    '''\n",
    "    # Your code here\n",
    "    user_item_train = create_user_item_matrix(df_train)\n",
    "    user_item_test = create_user_item_matrix(df_test)\n",
    "    \n",
    "    test_idx = user_item_test.index\n",
    "    test_arts = user_item_test.columns\n",
    "    \n",
    "    return user_item_train, user_item_test, test_idx, test_arts\n",
    "\n",
    "user_item_train, user_item_test, test_idx, test_arts = create_test_and_train_user_item(df_train, df_test)"
   ]
  },
  {
   "cell_type": "code",
   "execution_count": 176,
   "metadata": {},
   "outputs": [
    {
     "name": "stdout",
     "output_type": "stream",
     "text": [
      "(4487, 714) (682, 574) (682,) (574,)\n",
      "662\n"
     ]
    }
   ],
   "source": [
    "print(user_item_train.shape,user_item_test.shape, test_idx.shape, test_arts.shape)\n",
    "print(len(set(test_idx)-set(user_item_train.index)))\n",
    "\n"
   ]
  },
  {
   "cell_type": "code",
   "execution_count": 177,
   "metadata": {},
   "outputs": [
    {
     "name": "stdout",
     "output_type": "stream",
     "text": [
      "Awesome job!  That's right!  All of the test articles are in the training data, but there are only 20 test users that were also in the training set.  All of the other users that are in the test set we have no data on.  Therefore, we cannot make predictions for these users using SVD.\n"
     ]
    }
   ],
   "source": [
    "# Replace the values in the dictionary below\n",
    "a = 662 \n",
    "b = 574 \n",
    "c = 20 \n",
    "d = 0 \n",
    "\n",
    "\n",
    "sol_4_dict = {\n",
    "    'How many users can we make predictions for in the test set?': c, \n",
    "    'How many users in the test set are we not able to make predictions for because of the cold start problem?': a, \n",
    "    'How many articles can we make predictions for in the test set?': b,\n",
    "    'How many articles in the test set are we not able to make predictions for because of the cold start problem?': d\n",
    "}\n",
    "\n",
    "t.sol_4_test(sol_4_dict)"
   ]
  },
  {
   "cell_type": "markdown",
   "metadata": {},
   "source": [
    "`5.` Now use the **user_item_train** dataset from above to find U, S, and V transpose using SVD. Then find the subset of rows in the **user_item_test** dataset that you can predict using this matrix decomposition with different numbers of latent features to see how many features makes sense to keep based on the accuracy on the test data. This will require combining what was done in questions `2` - `4`.\n",
    "\n",
    "Use the cells below to explore how well SVD works towards making predictions for recommendations on the test data.  "
   ]
  },
  {
   "cell_type": "code",
   "execution_count": 178,
   "metadata": {},
   "outputs": [],
   "source": [
    "# fit SVD on the user_item_train matrix\n",
    "u_train, s_train, vt_train = np.linalg.svd(user_item_train) # fit svd similar to above then use the cells below"
   ]
  },
  {
   "cell_type": "code",
   "execution_count": 179,
   "metadata": {},
   "outputs": [
    {
     "data": {
      "text/plain": [
       "((4487, 4487), (714,), (714, 714))"
      ]
     },
     "execution_count": 179,
     "metadata": {},
     "output_type": "execute_result"
    }
   ],
   "source": [
    "u_train.shape, s_train.shape, vt_train.shape"
   ]
  },
  {
   "cell_type": "code",
   "execution_count": 181,
   "metadata": {},
   "outputs": [
    {
     "name": "stdout",
     "output_type": "stream",
     "text": [
      "(20, 4487) (20, 690)\n",
      "(714, 574) (690, 574)\n"
     ]
    }
   ],
   "source": [
    "# Common test and train indices and columns to determine overlap\n",
    "row_idx = user_item_train.index.isin(user_item_test.index)\n",
    "col_idx = user_item_train.columns.isin(user_item_test.columns)\n",
    "\n",
    "#Take relevant train rows and index to create u_test and vt_test\n",
    "u_test = u_train[row_idx, :]\n",
    "vt_test = vt_train[:, col_idx]\n",
    "print(u_test.shape, u_test[:, :k].shape)\n",
    "print(vt_test.shape, vt_test[:k, :].shape)"
   ]
  },
  {
   "cell_type": "code",
   "execution_count": 182,
   "metadata": {},
   "outputs": [],
   "source": [
    "# Testing data\n",
    "train_idx = user_item_train.index\n",
    "test_idx_match = user_item_test.index.isin(train_idx)\n",
    "sub_user_item_test = user_item_test.loc[test_idx_match]"
   ]
  },
  {
   "cell_type": "code",
   "execution_count": 183,
   "metadata": {},
   "outputs": [
    {
     "data": {
      "image/png": "[encoded data removed]",
      "text/plain": [
       "<matplotlib.figure.Figure at 0x7ecf2a3493c8>"
      ]
     },
     "metadata": {
      "needs_background": "light"
     },
     "output_type": "display_data"
    }
   ],
   "source": [
    "num_latent_feats = np.arange(10,700+10,20)\n",
    "train_errs, test_errs = [], []\n",
    "\n",
    "for k in num_latent_feats:\n",
    "    # restructure with k latent features\n",
    "    s_new_train, u_new_train, vt_new_train = np.diag(s_train[:k]), u_train[:, :k], vt_train[:k, :]\n",
    "    u_new_test, vt_new_test = u_test[:, :k], vt_test[:k, :]\n",
    "    \n",
    "    # take dot product\n",
    "    user_item_train_preds = np.around(np.dot(np.dot(u_new_train, s_new_train), vt_new_train))\n",
    "    user_item_test_preds = np.around(np.dot(np.dot(u_new_test, s_new_train), vt_new_test))\n",
    "    \n",
    "    # compute training error for each prediction to actual value\n",
    "    train_errs.append(accuracy_score(user_item_train.values.flatten(), user_item_train_preds.flatten()))\n",
    "    # only compare against the subset by which we can test\n",
    "    test_errs.append(accuracy_score(sub_user_item_test.values.flatten(), user_item_test_preds.flatten()))\n",
    "    \n",
    "    \n",
    "    \n",
    "plt.plot(num_latent_feats, train_errs, label='Training');\n",
    "plt.plot(num_latent_feats, test_errs, label='Testing');\n",
    "plt.xlabel('Number of Latent Features');\n",
    "plt.ylabel('Accuracy');\n",
    "plt.title('Accuracy vs. Number of Latent Features');"
   ]
  },
  {
   "cell_type": "code",
   "execution_count": 184,
   "metadata": {},
   "outputs": [
    {
     "name": "stdout",
     "output_type": "stream",
     "text": [
      "user_item_test (682, 574)\n",
      "u_train (4487, 4487)\n",
      "s_train (714,)\n",
      "v_train (714, 714)\n"
     ]
    }
   ],
   "source": [
    "# Use these cells to see how well you can use the training \n",
    "# decomposition to predict on test data\n",
    "print('user_item_test', user_item_test.shape)\n",
    "print('u_train', u_train.shape)\n",
    "print('s_train', s_train.shape)\n",
    "print('v_train', vt_train.shape)"
   ]
  },
  {
   "cell_type": "markdown",
   "metadata": {
    "collapsed": true
   },
   "source": [
    "`6.` Use the cell below to comment on the results you found in the previous question. Given the circumstances of your results, discuss what you might do to determine if the recommendations you make with any of the above recommendation systems are an improvement to how users currently find articles? "
   ]
  },
  {
   "cell_type": "markdown",
   "metadata": {},
   "source": [
    "**Your response here.**\n",
    "The accuracy appears to decrease on the test results as the number of latent features increases.  This is in contrast to the accuracy increase for the training test set.  The test set of data is quite small so we would probably consider increasing the test set size by potentially randomizing the data and then selecting a larger sample.  "
   ]
  },
  {
   "cell_type": "markdown",
   "metadata": {
    "collapsed": true
   },
   "source": [
    "<a id='conclusions'></a>\n",
    "### Extras\n",
    "Using your workbook, you could now save your recommendations for each user, develop a class to make new predictions and update your results, and make a flask app to deploy your results.  These tasks are beyond what is required for this project.  However, from what you learned in the lessons, you certainly capable of taking these tasks on to improve upon your work here!\n",
    "\n",
    "\n",
    "## Conclusion\n",
    "\n",
    "> Congratulations!  You have reached the end of the Recommendations with IBM project! \n",
    "\n",
    "> **Tip**: Once you are satisfied with your work here, check over your report to make sure that it is satisfies all the areas of the [rubric](https://review.udacity.com/#!/rubrics/2322/view). You should also probably remove all of the \"Tips\" like this one so that the presentation is as polished as possible.\n",
    "\n",
    "\n",
    "## Directions to Submit\n",
    "\n",
    "> Before you submit your project, you need to create a .html or .pdf version of this notebook in the workspace here. To do that, run the code cell below. If it worked correctly, you should get a return code of 0, and you should see the generated .html file in the workspace directory (click on the orange Jupyter icon in the upper left).\n",
    "\n",
    "> Alternatively, you can download this report as .html via the **File** > **Download as** submenu, and then manually upload it into the workspace directory by clicking on the orange Jupyter icon in the upper left, then using the Upload button.\n",
    "\n",
    "> Once you've done this, you can submit your project by clicking on the \"Submit Project\" button in the lower right here. This will create and submit a zip file with this .ipynb doc and the .html or .pdf version you created. Congratulations! "
   ]
  },
  {
   "cell_type": "code",
   "execution_count": 185,
   "metadata": {},
   "outputs": [
    {
     "data": {
      "text/plain": [
       "0"
      ]
     },
     "execution_count": 185,
     "metadata": {},
     "output_type": "execute_result"
    }
   ],
   "source": [
    "from subprocess import call\n",
    "call(['python', '-m', 'nbconvert', 'Recommendations_with_IBM.ipynb'])"
   ]
  }
 ],
 "metadata": {
  "kernelspec": {
   "display_name": "Python 3",
   "language": "python",
   "name": "python3"
  },
  "language_info": {
   "codemirror_mode": {
    "name": "ipython",
    "version": 3
   },
   "file_extension": ".py",
   "mimetype": "text/x-python",
   "name": "python",
   "nbconvert_exporter": "python",
   "pygments_lexer": "ipython3",
   "version": "3.6.3"
  }
 },
 "nbformat": 4,
 "nbformat_minor": 2
}
